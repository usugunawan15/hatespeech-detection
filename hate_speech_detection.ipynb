{
  "nbformat": 4,
  "nbformat_minor": 0,
  "metadata": {
    "colab": {
      "name": "hate-speech-detection.ipynb",
      "provenance": [],
      "collapsed_sections": [],
      "authorship_tag": "ABX9TyO2DVgFBAAgM2TYqeJMdpdF",
      "include_colab_link": true
    },
    "kernelspec": {
      "name": "python3",
      "display_name": "Python 3"
    }
  },
  "cells": [
    {
      "cell_type": "markdown",
      "metadata": {
        "id": "view-in-github",
        "colab_type": "text"
      },
      "source": [
        "<a href=\"https://colab.research.google.com/github/usugunawan15/hatespeech-detection/blob/main/hate_speech_detection.ipynb\" target=\"_parent\"><img src=\"https://colab.research.google.com/assets/colab-badge.svg\" alt=\"Open In Colab\"/></a>"
      ]
    },
    {
      "cell_type": "markdown",
      "metadata": {
        "id": "UADbf6316P60"
      },
      "source": [
        "# **Hate Speech Detection**\n",
        "Usu Gunawan | DS0223"
      ]
    },
    {
      "cell_type": "markdown",
      "metadata": {
        "id": "yM8i2_1XDEpW"
      },
      "source": [
        "**Import Library**"
      ]
    },
    {
      "cell_type": "code",
      "metadata": {
        "colab": {
          "base_uri": "https://localhost:8080/"
        },
        "id": "RmH-FvbJFOiw",
        "outputId": "bc246e76-e2a9-4d2b-ec58-154bf0e4fffe"
      },
      "source": [
        "! pip3 install nltk\n",
        "! pip3 install Sastrawi\n",
        "import Sastrawi\n",
        "import nltk\n",
        "nltk.download('punkt')\n",
        "nltk.download('stopwords')"
      ],
      "execution_count": 135,
      "outputs": [
        {
          "output_type": "stream",
          "text": [
            "Requirement already satisfied: nltk in /usr/local/lib/python3.6/dist-packages (3.2.5)\n",
            "Requirement already satisfied: six in /usr/local/lib/python3.6/dist-packages (from nltk) (1.15.0)\n",
            "Requirement already satisfied: Sastrawi in /usr/local/lib/python3.6/dist-packages (1.0.1)\n",
            "[nltk_data] Downloading package punkt to /root/nltk_data...\n",
            "[nltk_data]   Package punkt is already up-to-date!\n",
            "[nltk_data] Downloading package stopwords to /root/nltk_data...\n",
            "[nltk_data]   Package stopwords is already up-to-date!\n"
          ],
          "name": "stdout"
        },
        {
          "output_type": "execute_result",
          "data": {
            "text/plain": [
              "True"
            ]
          },
          "metadata": {
            "tags": []
          },
          "execution_count": 135
        }
      ]
    },
    {
      "cell_type": "code",
      "metadata": {
        "id": "vDfuqmgV5-D-"
      },
      "source": [
        "import pandas as pd\n",
        "import seaborn as sns\n",
        "import numpy as np\n",
        "from tqdm import tqdm\n",
        "import matplotlib.pyplot as plt\n",
        "import re\n",
        "from sklearn.metrics import classification_report\n",
        "from sklearn.feature_extraction.text import CountVectorizer, TfidfTransformer, TfidfVectorizer\n",
        "from sklearn.svm import SVC\n",
        "from sklearn.model_selection import train_test_split\n",
        "from sklearn.metrics import make_scorer, accuracy_score, f1_score\n",
        "from sklearn.metrics import confusion_matrix, roc_auc_score, recall_score, precision_score"
      ],
      "execution_count": 136,
      "outputs": []
    },
    {
      "cell_type": "code",
      "metadata": {
        "id": "DVyc1pwXF2lU"
      },
      "source": [
        "import requests\n",
        "import io\n",
        "\n",
        "response = requests.get('https://raw.githubusercontent.com/usugunawan15/hatespeech-detection/main/dataset_hatespeech.txt')\n",
        "data = io.StringIO(response.text)"
      ],
      "execution_count": 137,
      "outputs": []
    },
    {
      "cell_type": "code",
      "metadata": {
        "colab": {
          "base_uri": "https://localhost:8080/",
          "height": 206
        },
        "id": "16IFxKhWSRy_",
        "outputId": "5cca15b2-a25b-494c-83a4-4691be5293f7"
      },
      "source": [
        "df = pd.read_csv(data,sep='\\t')\n",
        "df.head()"
      ],
      "execution_count": 138,
      "outputs": [
        {
          "output_type": "execute_result",
          "data": {
            "text/html": [
              "<div>\n",
              "<style scoped>\n",
              "    .dataframe tbody tr th:only-of-type {\n",
              "        vertical-align: middle;\n",
              "    }\n",
              "\n",
              "    .dataframe tbody tr th {\n",
              "        vertical-align: top;\n",
              "    }\n",
              "\n",
              "    .dataframe thead th {\n",
              "        text-align: right;\n",
              "    }\n",
              "</style>\n",
              "<table border=\"1\" class=\"dataframe\">\n",
              "  <thead>\n",
              "    <tr style=\"text-align: right;\">\n",
              "      <th></th>\n",
              "      <th>Label</th>\n",
              "      <th>Tweet</th>\n",
              "    </tr>\n",
              "  </thead>\n",
              "  <tbody>\n",
              "    <tr>\n",
              "      <th>0</th>\n",
              "      <td>Non_HS</td>\n",
              "      <td>RT @spardaxyz: Fadli Zon Minta Mendagri Segera Menonaktifkan Ahok Jadi Gubernur DKI https:\\/\\/t.co\\/KH5vIRwPdO</td>\n",
              "    </tr>\n",
              "    <tr>\n",
              "      <th>1</th>\n",
              "      <td>Non_HS</td>\n",
              "      <td>RT @baguscondromowo: Mereka terus melukai aksi dalam rangka memenjarakan Ahok atau Ahok gagal dalam Pilkada.</td>\n",
              "    </tr>\n",
              "    <tr>\n",
              "      <th>2</th>\n",
              "      <td>Non_HS</td>\n",
              "      <td>Sylvi: bagaimana gurbernur melakukan kekerasan perempuan? Buktinya banyak ibu2 mau foto bareng #DebatFinalPilkadaJKT</td>\n",
              "    </tr>\n",
              "    <tr>\n",
              "      <th>3</th>\n",
              "      <td>Non_HS</td>\n",
              "      <td>Ahmad Dhani Tak Puas Debat Pilkada, Masalah Jalan di Bekasi Belum Sempat Terungkap https:\\/\\/t.co\\/m3HopPLUID\\u2026</td>\n",
              "    </tr>\n",
              "    <tr>\n",
              "      <th>4</th>\n",
              "      <td>Non_HS</td>\n",
              "      <td>RT @lisdaulay28: Waspada KTP palsu.....kawal PILKADA https:\\/\\/t.co\\/OOoERQV4SM</td>\n",
              "    </tr>\n",
              "  </tbody>\n",
              "</table>\n",
              "</div>"
            ],
            "text/plain": [
              "    Label                                                                                                                 Tweet\n",
              "0  Non_HS  RT @spardaxyz: Fadli Zon Minta Mendagri Segera Menonaktifkan Ahok Jadi Gubernur DKI https:\\/\\/t.co\\/KH5vIRwPdO      \n",
              "1  Non_HS  RT @baguscondromowo: Mereka terus melukai aksi dalam rangka memenjarakan Ahok atau Ahok gagal dalam Pilkada.        \n",
              "2  Non_HS  Sylvi: bagaimana gurbernur melakukan kekerasan perempuan? Buktinya banyak ibu2 mau foto bareng #DebatFinalPilkadaJKT\n",
              "3  Non_HS  Ahmad Dhani Tak Puas Debat Pilkada, Masalah Jalan di Bekasi Belum Sempat Terungkap https:\\/\\/t.co\\/m3HopPLUID\\u2026 \n",
              "4  Non_HS  RT @lisdaulay28: Waspada KTP palsu.....kawal PILKADA https:\\/\\/t.co\\/OOoERQV4SM                                     "
            ]
          },
          "metadata": {
            "tags": []
          },
          "execution_count": 138
        }
      ]
    },
    {
      "cell_type": "code",
      "metadata": {
        "colab": {
          "base_uri": "https://localhost:8080/",
          "height": 206
        },
        "id": "fq9NTXIhGStD",
        "outputId": "4340f227-3be4-434f-d074-614d67c74c75"
      },
      "source": [
        "df['Label'] = df['Label'].map({\n",
        "    \"Non_HS\" : 0,\n",
        "    \"HS\" : 1\n",
        "})\n",
        "df.head()"
      ],
      "execution_count": 139,
      "outputs": [
        {
          "output_type": "execute_result",
          "data": {
            "text/html": [
              "<div>\n",
              "<style scoped>\n",
              "    .dataframe tbody tr th:only-of-type {\n",
              "        vertical-align: middle;\n",
              "    }\n",
              "\n",
              "    .dataframe tbody tr th {\n",
              "        vertical-align: top;\n",
              "    }\n",
              "\n",
              "    .dataframe thead th {\n",
              "        text-align: right;\n",
              "    }\n",
              "</style>\n",
              "<table border=\"1\" class=\"dataframe\">\n",
              "  <thead>\n",
              "    <tr style=\"text-align: right;\">\n",
              "      <th></th>\n",
              "      <th>Label</th>\n",
              "      <th>Tweet</th>\n",
              "    </tr>\n",
              "  </thead>\n",
              "  <tbody>\n",
              "    <tr>\n",
              "      <th>0</th>\n",
              "      <td>0</td>\n",
              "      <td>RT @spardaxyz: Fadli Zon Minta Mendagri Segera Menonaktifkan Ahok Jadi Gubernur DKI https:\\/\\/t.co\\/KH5vIRwPdO</td>\n",
              "    </tr>\n",
              "    <tr>\n",
              "      <th>1</th>\n",
              "      <td>0</td>\n",
              "      <td>RT @baguscondromowo: Mereka terus melukai aksi dalam rangka memenjarakan Ahok atau Ahok gagal dalam Pilkada.</td>\n",
              "    </tr>\n",
              "    <tr>\n",
              "      <th>2</th>\n",
              "      <td>0</td>\n",
              "      <td>Sylvi: bagaimana gurbernur melakukan kekerasan perempuan? Buktinya banyak ibu2 mau foto bareng #DebatFinalPilkadaJKT</td>\n",
              "    </tr>\n",
              "    <tr>\n",
              "      <th>3</th>\n",
              "      <td>0</td>\n",
              "      <td>Ahmad Dhani Tak Puas Debat Pilkada, Masalah Jalan di Bekasi Belum Sempat Terungkap https:\\/\\/t.co\\/m3HopPLUID\\u2026</td>\n",
              "    </tr>\n",
              "    <tr>\n",
              "      <th>4</th>\n",
              "      <td>0</td>\n",
              "      <td>RT @lisdaulay28: Waspada KTP palsu.....kawal PILKADA https:\\/\\/t.co\\/OOoERQV4SM</td>\n",
              "    </tr>\n",
              "  </tbody>\n",
              "</table>\n",
              "</div>"
            ],
            "text/plain": [
              "   Label                                                                                                                 Tweet\n",
              "0  0      RT @spardaxyz: Fadli Zon Minta Mendagri Segera Menonaktifkan Ahok Jadi Gubernur DKI https:\\/\\/t.co\\/KH5vIRwPdO      \n",
              "1  0      RT @baguscondromowo: Mereka terus melukai aksi dalam rangka memenjarakan Ahok atau Ahok gagal dalam Pilkada.        \n",
              "2  0      Sylvi: bagaimana gurbernur melakukan kekerasan perempuan? Buktinya banyak ibu2 mau foto bareng #DebatFinalPilkadaJKT\n",
              "3  0      Ahmad Dhani Tak Puas Debat Pilkada, Masalah Jalan di Bekasi Belum Sempat Terungkap https:\\/\\/t.co\\/m3HopPLUID\\u2026 \n",
              "4  0      RT @lisdaulay28: Waspada KTP palsu.....kawal PILKADA https:\\/\\/t.co\\/OOoERQV4SM                                     "
            ]
          },
          "metadata": {
            "tags": []
          },
          "execution_count": 139
        }
      ]
    },
    {
      "cell_type": "code",
      "metadata": {
        "colab": {
          "base_uri": "https://localhost:8080/"
        },
        "id": "iyJBc2D6Hk0c",
        "outputId": "7345209a-aef6-49f7-f8e5-ea59c7ab6d1d"
      },
      "source": [
        "df['Label'].value_counts()"
      ],
      "execution_count": 140,
      "outputs": [
        {
          "output_type": "execute_result",
          "data": {
            "text/plain": [
              "0    453\n",
              "1    260\n",
              "Name: Label, dtype: int64"
            ]
          },
          "metadata": {
            "tags": []
          },
          "execution_count": 140
        }
      ]
    },
    {
      "cell_type": "markdown",
      "metadata": {
        "id": "GlCTbkXubDsu"
      },
      "source": [
        "**Text Cleaning**"
      ]
    },
    {
      "cell_type": "code",
      "metadata": {
        "id": "fU3w-AqlabVw"
      },
      "source": [
        "#Melakukan penghapusan data yang tidak relevan\n",
        "casefold = []\n",
        "for i in df['Tweet'] :\n",
        "  try :\n",
        "    removed = i.replace(\"RT\", \"\") # Menghapus retweet\n",
        "    removed = re.sub(r'@[A-Za-z0-9_]+', '', removed) # Menghapus username twitter\n",
        "    removed = re.sub(r'https?:\\\\[^ ]+', '', removed) #Menghapus alamat website\n",
        "    removed = re.sub(r'[\\W+|_]+', ' ', removed).lower() #menghapus karakter spesial kecuali spasi\n",
        "\n",
        "    casefold.append(removed)\n",
        "  except :\n",
        "    continue"
      ],
      "execution_count": 141,
      "outputs": []
    },
    {
      "cell_type": "code",
      "metadata": {
        "colab": {
          "base_uri": "https://localhost:8080/",
          "height": 206
        },
        "id": "lySJr-bnZ8-B",
        "outputId": "074ec085-6f9a-4fa6-a8d4-8e7055544868"
      },
      "source": [
        "clean = pd.DataFrame({'clean_text':casefold})\n",
        "clean.head()"
      ],
      "execution_count": 142,
      "outputs": [
        {
          "output_type": "execute_result",
          "data": {
            "text/html": [
              "<div>\n",
              "<style scoped>\n",
              "    .dataframe tbody tr th:only-of-type {\n",
              "        vertical-align: middle;\n",
              "    }\n",
              "\n",
              "    .dataframe tbody tr th {\n",
              "        vertical-align: top;\n",
              "    }\n",
              "\n",
              "    .dataframe thead th {\n",
              "        text-align: right;\n",
              "    }\n",
              "</style>\n",
              "<table border=\"1\" class=\"dataframe\">\n",
              "  <thead>\n",
              "    <tr style=\"text-align: right;\">\n",
              "      <th></th>\n",
              "      <th>clean_text</th>\n",
              "    </tr>\n",
              "  </thead>\n",
              "  <tbody>\n",
              "    <tr>\n",
              "      <th>0</th>\n",
              "      <td>fadli zon minta mendagri segera menonaktifkan ahok jadi gubernur dki</td>\n",
              "    </tr>\n",
              "    <tr>\n",
              "      <th>1</th>\n",
              "      <td>mereka terus melukai aksi dalam rangka memenjarakan ahok atau ahok gagal dalam pilkada</td>\n",
              "    </tr>\n",
              "    <tr>\n",
              "      <th>2</th>\n",
              "      <td>sylvi bagaimana gurbernur melakukan kekerasan perempuan buktinya banyak ibu2 mau foto bareng debatfinalpilkadajkt</td>\n",
              "    </tr>\n",
              "    <tr>\n",
              "      <th>3</th>\n",
              "      <td>ahmad dhani tak puas debat pilkada masalah jalan di bekasi belum sempat terungkap</td>\n",
              "    </tr>\n",
              "    <tr>\n",
              "      <th>4</th>\n",
              "      <td>waspada ktp palsu kawal pilkada</td>\n",
              "    </tr>\n",
              "  </tbody>\n",
              "</table>\n",
              "</div>"
            ],
            "text/plain": [
              "                                                                                                          clean_text\n",
              "0   fadli zon minta mendagri segera menonaktifkan ahok jadi gubernur dki                                            \n",
              "1   mereka terus melukai aksi dalam rangka memenjarakan ahok atau ahok gagal dalam pilkada                          \n",
              "2  sylvi bagaimana gurbernur melakukan kekerasan perempuan buktinya banyak ibu2 mau foto bareng debatfinalpilkadajkt\n",
              "3  ahmad dhani tak puas debat pilkada masalah jalan di bekasi belum sempat terungkap                                \n",
              "4   waspada ktp palsu kawal pilkada                                                                                 "
            ]
          },
          "metadata": {
            "tags": []
          },
          "execution_count": 142
        }
      ]
    },
    {
      "cell_type": "markdown",
      "metadata": {
        "id": "ANwCXb-VpxBg"
      },
      "source": [
        "**Stemming**"
      ]
    },
    {
      "cell_type": "code",
      "metadata": {
        "id": "3ZmGPXK0bXpd"
      },
      "source": [
        "from Sastrawi.Stemmer.StemmerFactory import StemmerFactory\n",
        "# factory = StopWordRemoverFactory()\n",
        "# stopword = factory.create_stop_word_remover()\n",
        "factory = StemmerFactory()\n",
        "stemmer = factory.create_stemmer()\n",
        "stemm = []\n",
        "for i in casefold :\n",
        "  hasil = stemmer.stem(i)\n",
        "  stemm.append(hasil)"
      ],
      "execution_count": 143,
      "outputs": []
    },
    {
      "cell_type": "code",
      "metadata": {
        "colab": {
          "base_uri": "https://localhost:8080/",
          "height": 206
        },
        "id": "--dR4KjldgaU",
        "outputId": "42f8c1fd-ab3c-4b51-9cc1-35905890b81b"
      },
      "source": [
        "stem =pd.DataFrame({'stem': stemm})\n",
        "stem.head()"
      ],
      "execution_count": 144,
      "outputs": [
        {
          "output_type": "execute_result",
          "data": {
            "text/html": [
              "<div>\n",
              "<style scoped>\n",
              "    .dataframe tbody tr th:only-of-type {\n",
              "        vertical-align: middle;\n",
              "    }\n",
              "\n",
              "    .dataframe tbody tr th {\n",
              "        vertical-align: top;\n",
              "    }\n",
              "\n",
              "    .dataframe thead th {\n",
              "        text-align: right;\n",
              "    }\n",
              "</style>\n",
              "<table border=\"1\" class=\"dataframe\">\n",
              "  <thead>\n",
              "    <tr style=\"text-align: right;\">\n",
              "      <th></th>\n",
              "      <th>stem</th>\n",
              "    </tr>\n",
              "  </thead>\n",
              "  <tbody>\n",
              "    <tr>\n",
              "      <th>0</th>\n",
              "      <td>fadli zon minta mendagri segera nonaktif ahok jadi gubernur dki</td>\n",
              "    </tr>\n",
              "    <tr>\n",
              "      <th>1</th>\n",
              "      <td>mereka terus luka aksi dalam rangka penjara ahok atau ahok gagal dalam pilkada</td>\n",
              "    </tr>\n",
              "    <tr>\n",
              "      <th>2</th>\n",
              "      <td>sylvi bagaimana gurbernur laku keras perempuan bukti banyak ibu2 mau foto bareng debatfinalpilkadajkt</td>\n",
              "    </tr>\n",
              "    <tr>\n",
              "      <th>3</th>\n",
              "      <td>ahmad dhani tak puas debat pilkada masalah jalan di bekas belum sempat ungkap</td>\n",
              "    </tr>\n",
              "    <tr>\n",
              "      <th>4</th>\n",
              "      <td>waspada ktp palsu kawal pilkada</td>\n",
              "    </tr>\n",
              "  </tbody>\n",
              "</table>\n",
              "</div>"
            ],
            "text/plain": [
              "                                                                                                    stem\n",
              "0  fadli zon minta mendagri segera nonaktif ahok jadi gubernur dki                                      \n",
              "1  mereka terus luka aksi dalam rangka penjara ahok atau ahok gagal dalam pilkada                       \n",
              "2  sylvi bagaimana gurbernur laku keras perempuan bukti banyak ibu2 mau foto bareng debatfinalpilkadajkt\n",
              "3  ahmad dhani tak puas debat pilkada masalah jalan di bekas belum sempat ungkap                        \n",
              "4  waspada ktp palsu kawal pilkada                                                                      "
            ]
          },
          "metadata": {
            "tags": []
          },
          "execution_count": 144
        }
      ]
    },
    {
      "cell_type": "markdown",
      "metadata": {
        "id": "PDys4Z35x1Xt"
      },
      "source": [
        "**Tokenization**"
      ]
    },
    {
      "cell_type": "code",
      "metadata": {
        "id": "jSawNYF7pRZh"
      },
      "source": [
        "from nltk.tokenize import sent_tokenize, word_tokenize\n",
        "from nltk.corpus import stopwords\n",
        "clean_text = []\n",
        "listStopword =  set(stopwords.words('indonesian'))\n",
        "tokenized = []\n",
        "for i in stemm :\n",
        "  tokens = nltk.tokenize.word_tokenize(i)\n",
        "  tokenized.append(tokens)"
      ],
      "execution_count": 145,
      "outputs": []
    },
    {
      "cell_type": "code",
      "metadata": {
        "colab": {
          "base_uri": "https://localhost:8080/",
          "height": 206
        },
        "id": "xRX5UhLup4fz",
        "outputId": "11b5c9fc-9d6b-4465-cb71-0d9469fa6dad"
      },
      "source": [
        "token = pd.DataFrame({'tokenized':tokenized})\n",
        "token.head()"
      ],
      "execution_count": 146,
      "outputs": [
        {
          "output_type": "execute_result",
          "data": {
            "text/html": [
              "<div>\n",
              "<style scoped>\n",
              "    .dataframe tbody tr th:only-of-type {\n",
              "        vertical-align: middle;\n",
              "    }\n",
              "\n",
              "    .dataframe tbody tr th {\n",
              "        vertical-align: top;\n",
              "    }\n",
              "\n",
              "    .dataframe thead th {\n",
              "        text-align: right;\n",
              "    }\n",
              "</style>\n",
              "<table border=\"1\" class=\"dataframe\">\n",
              "  <thead>\n",
              "    <tr style=\"text-align: right;\">\n",
              "      <th></th>\n",
              "      <th>tokenized</th>\n",
              "    </tr>\n",
              "  </thead>\n",
              "  <tbody>\n",
              "    <tr>\n",
              "      <th>0</th>\n",
              "      <td>[fadli, zon, minta, mendagri, segera, nonaktif, ahok, jadi, gubernur, dki]</td>\n",
              "    </tr>\n",
              "    <tr>\n",
              "      <th>1</th>\n",
              "      <td>[mereka, terus, luka, aksi, dalam, rangka, penjara, ahok, atau, ahok, gagal, dalam, pilkada]</td>\n",
              "    </tr>\n",
              "    <tr>\n",
              "      <th>2</th>\n",
              "      <td>[sylvi, bagaimana, gurbernur, laku, keras, perempuan, bukti, banyak, ibu2, mau, foto, bareng, debatfinalpilkadajkt]</td>\n",
              "    </tr>\n",
              "    <tr>\n",
              "      <th>3</th>\n",
              "      <td>[ahmad, dhani, tak, puas, debat, pilkada, masalah, jalan, di, bekas, belum, sempat, ungkap]</td>\n",
              "    </tr>\n",
              "    <tr>\n",
              "      <th>4</th>\n",
              "      <td>[waspada, ktp, palsu, kawal, pilkada]</td>\n",
              "    </tr>\n",
              "  </tbody>\n",
              "</table>\n",
              "</div>"
            ],
            "text/plain": [
              "                                                                                                             tokenized\n",
              "0  [fadli, zon, minta, mendagri, segera, nonaktif, ahok, jadi, gubernur, dki]                                         \n",
              "1  [mereka, terus, luka, aksi, dalam, rangka, penjara, ahok, atau, ahok, gagal, dalam, pilkada]                       \n",
              "2  [sylvi, bagaimana, gurbernur, laku, keras, perempuan, bukti, banyak, ibu2, mau, foto, bareng, debatfinalpilkadajkt]\n",
              "3  [ahmad, dhani, tak, puas, debat, pilkada, masalah, jalan, di, bekas, belum, sempat, ungkap]                        \n",
              "4  [waspada, ktp, palsu, kawal, pilkada]                                                                              "
            ]
          },
          "metadata": {
            "tags": []
          },
          "execution_count": 146
        }
      ]
    },
    {
      "cell_type": "markdown",
      "metadata": {
        "id": "uSkTZ-XMI-6o"
      },
      "source": [
        "**Remove Stop Words**"
      ]
    },
    {
      "cell_type": "code",
      "metadata": {
        "id": "yElqkucXx5T5"
      },
      "source": [
        "def remove_stopwords(txt_tokenized):\n",
        "    txt_clear = [w for w in txt_tokenized if not w in listStopword]\n",
        "    return txt_clear\n",
        "\n",
        "df['no_sw'] = token['tokenized'].apply(lambda x: remove_stopwords(x))"
      ],
      "execution_count": 147,
      "outputs": []
    },
    {
      "cell_type": "code",
      "metadata": {
        "colab": {
          "base_uri": "https://localhost:8080/",
          "height": 545
        },
        "id": "aUwO4F8p1fsH",
        "outputId": "1a5f2f01-5768-480e-bdba-08eb3461b20f"
      },
      "source": [
        "df"
      ],
      "execution_count": 148,
      "outputs": [
        {
          "output_type": "execute_result",
          "data": {
            "text/html": [
              "<div>\n",
              "<style scoped>\n",
              "    .dataframe tbody tr th:only-of-type {\n",
              "        vertical-align: middle;\n",
              "    }\n",
              "\n",
              "    .dataframe tbody tr th {\n",
              "        vertical-align: top;\n",
              "    }\n",
              "\n",
              "    .dataframe thead th {\n",
              "        text-align: right;\n",
              "    }\n",
              "</style>\n",
              "<table border=\"1\" class=\"dataframe\">\n",
              "  <thead>\n",
              "    <tr style=\"text-align: right;\">\n",
              "      <th></th>\n",
              "      <th>Label</th>\n",
              "      <th>Tweet</th>\n",
              "      <th>no_sw</th>\n",
              "    </tr>\n",
              "  </thead>\n",
              "  <tbody>\n",
              "    <tr>\n",
              "      <th>0</th>\n",
              "      <td>0</td>\n",
              "      <td>RT @spardaxyz: Fadli Zon Minta Mendagri Segera Menonaktifkan Ahok Jadi Gubernur DKI https:\\/\\/t.co\\/KH5vIRwPdO</td>\n",
              "      <td>[fadli, zon, mendagri, nonaktif, ahok, gubernur, dki]</td>\n",
              "    </tr>\n",
              "    <tr>\n",
              "      <th>1</th>\n",
              "      <td>0</td>\n",
              "      <td>RT @baguscondromowo: Mereka terus melukai aksi dalam rangka memenjarakan Ahok atau Ahok gagal dalam Pilkada.</td>\n",
              "      <td>[luka, aksi, rangka, penjara, ahok, ahok, gagal, pilkada]</td>\n",
              "    </tr>\n",
              "    <tr>\n",
              "      <th>2</th>\n",
              "      <td>0</td>\n",
              "      <td>Sylvi: bagaimana gurbernur melakukan kekerasan perempuan? Buktinya banyak ibu2 mau foto bareng #DebatFinalPilkadaJKT</td>\n",
              "      <td>[sylvi, gurbernur, laku, keras, perempuan, bukti, ibu2, foto, bareng, debatfinalpilkadajkt]</td>\n",
              "    </tr>\n",
              "    <tr>\n",
              "      <th>3</th>\n",
              "      <td>0</td>\n",
              "      <td>Ahmad Dhani Tak Puas Debat Pilkada, Masalah Jalan di Bekasi Belum Sempat Terungkap https:\\/\\/t.co\\/m3HopPLUID\\u2026</td>\n",
              "      <td>[ahmad, dhani, puas, debat, pilkada, jalan, bekas]</td>\n",
              "    </tr>\n",
              "    <tr>\n",
              "      <th>4</th>\n",
              "      <td>0</td>\n",
              "      <td>RT @lisdaulay28: Waspada KTP palsu.....kawal PILKADA https:\\/\\/t.co\\/OOoERQV4SM</td>\n",
              "      <td>[waspada, ktp, palsu, kawal, pilkada]</td>\n",
              "    </tr>\n",
              "    <tr>\n",
              "      <th>...</th>\n",
              "      <td>...</td>\n",
              "      <td>...</td>\n",
              "      <td>...</td>\n",
              "    </tr>\n",
              "    <tr>\n",
              "      <th>708</th>\n",
              "      <td>1</td>\n",
              "      <td>Muka Si BABi Ahok Tuh Yg Mirip SERBET Lantai....@basuki_btp...</td>\n",
              "      <td>[muka, si, babi, ahok, tuh, yg, serbet, lantai]</td>\n",
              "    </tr>\n",
              "    <tr>\n",
              "      <th>709</th>\n",
              "      <td>1</td>\n",
              "      <td>Betul bang hancurkan merka bang, musnahkan china babi dibumi pertiwi indonesia, berkedok reklamasi itu ahok</td>\n",
              "      <td>[bang, hancur, merka, bang, musnah, china, babi, bumi, pertiwi, indonesia, kedok, reklamasi, ahok]</td>\n",
              "    </tr>\n",
              "    <tr>\n",
              "      <th>710</th>\n",
              "      <td>1</td>\n",
              "      <td>Sapa Yg bilang Ahok anti korupsi!?, klo grombolannyA NGOMONG gtu wajar, AHOK ITU MAFIA KORUPTOR SANG PENISTA AGAMA YG DILINDUNGI ISTANA PKI</td>\n",
              "      <td>[sapa, yg, bilang, ahok, anti, korupsi, klo, grombolannya, ngomong, gtu, wajar, ahok, mafia, koruptor, sang, nista, agama, yg, lindung, istana, pki]</td>\n",
              "    </tr>\n",
              "    <tr>\n",
              "      <th>711</th>\n",
              "      <td>1</td>\n",
              "      <td>Gw juga ngimpi SENTILIN BIJI BABI AHOK, pcetar Pcetar, langsung kejang2 die, ngadu ke Jkw, Jkw: makanye sunat dulu, bru NGOMONG Almaidah.</td>\n",
              "      <td>[gw, ngimpi, sentilin, biji, babi, ahok, pcetar, pcetar, langsung, kejang2, die, ngadu, jkw, jkw, makanye, sunat, bru, ngomong, almaidah]</td>\n",
              "    </tr>\n",
              "    <tr>\n",
              "      <th>712</th>\n",
              "      <td>1</td>\n",
              "      <td>Mudah2an gw ketemu sama SI BABI IWAN BOPENG DI TPS nya anjing Ahok</td>\n",
              "      <td>[mudah2an, gw, ketemu, si, babi, iwan, bopeng, tps, nya, anjing, ahok]</td>\n",
              "    </tr>\n",
              "  </tbody>\n",
              "</table>\n",
              "<p>713 rows × 3 columns</p>\n",
              "</div>"
            ],
            "text/plain": [
              "     Label  ...                                                                                                                                                 no_sw\n",
              "0    0      ...  [fadli, zon, mendagri, nonaktif, ahok, gubernur, dki]                                                                                               \n",
              "1    0      ...  [luka, aksi, rangka, penjara, ahok, ahok, gagal, pilkada]                                                                                           \n",
              "2    0      ...  [sylvi, gurbernur, laku, keras, perempuan, bukti, ibu2, foto, bareng, debatfinalpilkadajkt]                                                         \n",
              "3    0      ...  [ahmad, dhani, puas, debat, pilkada, jalan, bekas]                                                                                                  \n",
              "4    0      ...  [waspada, ktp, palsu, kawal, pilkada]                                                                                                               \n",
              "..  ..      ...                                    ...                                                                                                               \n",
              "708  1      ...  [muka, si, babi, ahok, tuh, yg, serbet, lantai]                                                                                                     \n",
              "709  1      ...  [bang, hancur, merka, bang, musnah, china, babi, bumi, pertiwi, indonesia, kedok, reklamasi, ahok]                                                  \n",
              "710  1      ...  [sapa, yg, bilang, ahok, anti, korupsi, klo, grombolannya, ngomong, gtu, wajar, ahok, mafia, koruptor, sang, nista, agama, yg, lindung, istana, pki]\n",
              "711  1      ...  [gw, ngimpi, sentilin, biji, babi, ahok, pcetar, pcetar, langsung, kejang2, die, ngadu, jkw, jkw, makanye, sunat, bru, ngomong, almaidah]           \n",
              "712  1      ...  [mudah2an, gw, ketemu, si, babi, iwan, bopeng, tps, nya, anjing, ahok]                                                                              \n",
              "\n",
              "[713 rows x 3 columns]"
            ]
          },
          "metadata": {
            "tags": []
          },
          "execution_count": 148
        }
      ]
    },
    {
      "cell_type": "markdown",
      "metadata": {
        "id": "WCuhbqBIJC93"
      },
      "source": [
        "**Clean Text**"
      ]
    },
    {
      "cell_type": "code",
      "metadata": {
        "id": "T2tPOau21sO1"
      },
      "source": [
        "clean_text = []\n",
        "for kata in df['no_sw']:\n",
        "  joined = ' '.join(kata)\n",
        "  clean_text.append(joined)"
      ],
      "execution_count": 150,
      "outputs": []
    },
    {
      "cell_type": "code",
      "metadata": {
        "colab": {
          "base_uri": "https://localhost:8080/",
          "height": 206
        },
        "id": "ADOX3GTX2z5G",
        "outputId": "678a9edd-ca9c-4495-8111-b903c0ebb590"
      },
      "source": [
        "clean_text = pd.DataFrame({'clean':clean_text})\n",
        "clean_text.head()"
      ],
      "execution_count": 127,
      "outputs": [
        {
          "output_type": "execute_result",
          "data": {
            "text/html": [
              "<div>\n",
              "<style scoped>\n",
              "    .dataframe tbody tr th:only-of-type {\n",
              "        vertical-align: middle;\n",
              "    }\n",
              "\n",
              "    .dataframe tbody tr th {\n",
              "        vertical-align: top;\n",
              "    }\n",
              "\n",
              "    .dataframe thead th {\n",
              "        text-align: right;\n",
              "    }\n",
              "</style>\n",
              "<table border=\"1\" class=\"dataframe\">\n",
              "  <thead>\n",
              "    <tr style=\"text-align: right;\">\n",
              "      <th></th>\n",
              "      <th>clean</th>\n",
              "    </tr>\n",
              "  </thead>\n",
              "  <tbody>\n",
              "    <tr>\n",
              "      <th>0</th>\n",
              "      <td>fadli zon mendagri nonaktif ahok gubernur dki</td>\n",
              "    </tr>\n",
              "    <tr>\n",
              "      <th>1</th>\n",
              "      <td>luka aksi rangka penjara ahok ahok gagal pilkada</td>\n",
              "    </tr>\n",
              "    <tr>\n",
              "      <th>2</th>\n",
              "      <td>sylvi gurbernur laku keras perempuan bukti ibu2 foto bareng debatfinalpilkadajkt</td>\n",
              "    </tr>\n",
              "    <tr>\n",
              "      <th>3</th>\n",
              "      <td>ahmad dhani puas debat pilkada jalan bekas</td>\n",
              "    </tr>\n",
              "    <tr>\n",
              "      <th>4</th>\n",
              "      <td>waspada ktp palsu kawal pilkada</td>\n",
              "    </tr>\n",
              "  </tbody>\n",
              "</table>\n",
              "</div>"
            ],
            "text/plain": [
              "                                                                              clean\n",
              "0  fadli zon mendagri nonaktif ahok gubernur dki                                   \n",
              "1  luka aksi rangka penjara ahok ahok gagal pilkada                                \n",
              "2  sylvi gurbernur laku keras perempuan bukti ibu2 foto bareng debatfinalpilkadajkt\n",
              "3  ahmad dhani puas debat pilkada jalan bekas                                      \n",
              "4  waspada ktp palsu kawal pilkada                                                 "
            ]
          },
          "metadata": {
            "tags": []
          },
          "execution_count": 127
        }
      ]
    },
    {
      "cell_type": "markdown",
      "metadata": {
        "id": "dJcb9bPz6Wsi"
      },
      "source": [
        "**Split Data**"
      ]
    },
    {
      "cell_type": "code",
      "metadata": {
        "id": "lFahmMO-6ZNj"
      },
      "source": [
        "df_train, df_test = train_test_split(df, test_size=0.2)"
      ],
      "execution_count": 153,
      "outputs": []
    },
    {
      "cell_type": "markdown",
      "metadata": {
        "id": "64PAbhg06efd"
      },
      "source": [
        "**Feature Extraction**"
      ]
    },
    {
      "cell_type": "code",
      "metadata": {
        "id": "ySoAEw-O6g5o"
      },
      "source": [
        "Tfidf_vect = TfidfVectorizer()\n",
        "Tfidf_vect.fit(df['Tweet'])\n",
        "Train_X_Tfidf = Tfidf_vect.transform(df_train['Tweet'])\n",
        "Test_X_Tfidf = Tfidf_vect.transform(df_test['Tweet'])\n",
        "y_train = df_train['Label'].to_numpy()\n",
        "y_test = df_test['Label'].to_numpy()"
      ],
      "execution_count": 154,
      "outputs": []
    },
    {
      "cell_type": "markdown",
      "metadata": {
        "id": "h_R6u0JxPeXi"
      },
      "source": [
        "**Klasifikasi**"
      ]
    },
    {
      "cell_type": "code",
      "metadata": {
        "id": "3yvBISzQ7FDW"
      },
      "source": [
        "def klasifikasi(df):\n",
        "  classifier = SVC(kernel=df, random_state=1)\n",
        "  classifier.fit(Train_X_Tfidf, y_train)\n",
        "\n",
        "  y_pred = classifier.predict(Test_X_Tfidf)\n",
        " \n",
        "  print('result = ')\n",
        "  print('akurasi  =',accuracy_score(y_test, y_pred)*100,'%')\n",
        "\n",
        "  print('presisi  =',precision_score(y_test, y_pred, average='macro')*100,'%')\n",
        "\n",
        "  print('recall   =',recall_score(y_test, y_pred, average='macro')*100,'%')\n",
        "\n",
        "  print('f1 score =',f1_score(y_test, y_pred, average='macro')*100,'%')"
      ],
      "execution_count": 155,
      "outputs": []
    },
    {
      "cell_type": "code",
      "metadata": {
        "colab": {
          "base_uri": "https://localhost:8080/"
        },
        "id": "IN-gw6Ed7IWF",
        "outputId": "aadc95f4-8961-400f-bfc4-95daa55de1bd"
      },
      "source": [
        "klasifikasi('sigmoid')"
      ],
      "execution_count": 156,
      "outputs": [
        {
          "output_type": "stream",
          "text": [
            "result = \n",
            "akurasi  = 86.01398601398601 %\n",
            "presisi  = 85.82018173122907 %\n",
            "recall   = 82.5227963525836 %\n",
            "f1 score = 83.78684807256236 %\n"
          ],
          "name": "stdout"
        }
      ]
    },
    {
      "cell_type": "code",
      "metadata": {
        "colab": {
          "base_uri": "https://localhost:8080/"
        },
        "id": "6daAAb6q7Iod",
        "outputId": "72674ea1-6507-4512-d032-a2a63252fbb2"
      },
      "source": [
        "klasifikasi('rbf')"
      ],
      "execution_count": 44,
      "outputs": [
        {
          "output_type": "stream",
          "text": [
            "result = \n",
            "akurasi  = 78.32167832167832 %\n",
            "presisi  = 85.32608695652173 %\n",
            "recall   = 70.6043956043956 %\n",
            "f1 score = 71.9873617693523 %\n"
          ],
          "name": "stdout"
        }
      ]
    },
    {
      "cell_type": "code",
      "metadata": {
        "colab": {
          "base_uri": "https://localhost:8080/"
        },
        "id": "2Q20Dgv49nPI",
        "outputId": "63395ce1-bfdb-4add-dd4b-8cbb0416260c"
      },
      "source": [
        "klasifikasi('linear')"
      ],
      "execution_count": 45,
      "outputs": [
        {
          "output_type": "stream",
          "text": [
            "result = \n",
            "akurasi  = 84.61538461538461 %\n",
            "presisi  = 86.95482866043614 %\n",
            "recall   = 80.08241758241759 %\n",
            "f1 score = 81.94444444444444 %\n"
          ],
          "name": "stdout"
        }
      ]
    },
    {
      "cell_type": "code",
      "metadata": {
        "id": "Y31rX2T_96XC"
      },
      "source": [
        "classifier = SVC(kernel=\"linear\", random_state=1)\n",
        "classifier.fit(Train_X_Tfidf, y_train)\n",
        "y_pred = classifier.predict(Test_X_Tfidf)"
      ],
      "execution_count": 157,
      "outputs": []
    },
    {
      "cell_type": "code",
      "metadata": {
        "id": "P2F0ABsX_qhT"
      },
      "source": [
        "df_pred = df_test.copy()\n",
        "df_pred['prediksi'] = y_pred\n",
        "df_pred['true_prediction'] = np.where(df_pred['prediksi'] == df_test['Label'], True, False)\n",
        "df_pred.to_excel(\"prediksi.xlsx\")"
      ],
      "execution_count": 159,
      "outputs": []
    },
    {
      "cell_type": "code",
      "metadata": {
        "colab": {
          "base_uri": "https://localhost:8080/",
          "height": 563
        },
        "id": "iE7F_MW5_yQD",
        "outputId": "68406ce1-0ffc-4ae7-f1bd-0c1f5de02bbf"
      },
      "source": [
        "pd.set_option('display.max_colwidth', -1)\n",
        "df_diff = df_pred.loc[df_pred['true_prediction'] == True]\n",
        "display(df_diff)"
      ],
      "execution_count": 92,
      "outputs": [
        {
          "output_type": "display_data",
          "data": {
            "text/html": [
              "<div>\n",
              "<style scoped>\n",
              "    .dataframe tbody tr th:only-of-type {\n",
              "        vertical-align: middle;\n",
              "    }\n",
              "\n",
              "    .dataframe tbody tr th {\n",
              "        vertical-align: top;\n",
              "    }\n",
              "\n",
              "    .dataframe thead th {\n",
              "        text-align: right;\n",
              "    }\n",
              "</style>\n",
              "<table border=\"1\" class=\"dataframe\">\n",
              "  <thead>\n",
              "    <tr style=\"text-align: right;\">\n",
              "      <th></th>\n",
              "      <th>Label</th>\n",
              "      <th>Tweet</th>\n",
              "      <th>no_sw</th>\n",
              "      <th>prediksi</th>\n",
              "      <th>true_prediction</th>\n",
              "    </tr>\n",
              "  </thead>\n",
              "  <tbody>\n",
              "    <tr>\n",
              "      <th>407</th>\n",
              "      <td>0</td>\n",
              "      <td>Pak saya setuju kalo pak jadi gubenur karena kerja pak sangat bagus kerena kerja pak basuki tegas keluarga kami mendukung pak basuki</td>\n",
              "      <td>[tuju, kalo, gubenur, kerja, bagus, rena, kerja, basuki, keluarga, dukung, basuki]</td>\n",
              "      <td>Non_HS</td>\n",
              "      <td>True</td>\n",
              "    </tr>\n",
              "    <tr>\n",
              "      <th>93</th>\n",
              "      <td>0</td>\n",
              "      <td>Gimana ya Tim Ahok kok makin disudutkan(?) Mungkin karena ini final kali y</td>\n",
              "      <td>[gimana, ya, tim, ahok, sudut, final, kali, y]</td>\n",
              "      <td>Non_HS</td>\n",
              "      <td>True</td>\n",
              "    </tr>\n",
              "    <tr>\n",
              "      <th>315</th>\n",
              "      <td>0</td>\n",
              "      <td>Terimakasih Pak @basukibtp untuk 5 tahunnya, 3 tahun sbg wakil gubernur &amp; 2 tahun sbg gubernur!</td>\n",
              "      <td>[terimakasih, 5, 3, sbg, wakil, gubernur, 2, sbg, gubernur]</td>\n",
              "      <td>Non_HS</td>\n",
              "      <td>True</td>\n",
              "    </tr>\n",
              "    <tr>\n",
              "      <th>605</th>\n",
              "      <td>1</td>\n",
              "      <td>@AHMADDHANIPRAST aku katakan anjing kpd ahmad dani, boleh....aku katakan babi kpd ahmad dhani, boleh...</td>\n",
              "      <td>[anjing, kpd, ahmad, babi, kpd, ahmad, dhani]</td>\n",
              "      <td>HS</td>\n",
              "      <td>True</td>\n",
              "    </tr>\n",
              "    <tr>\n",
              "      <th>331</th>\n",
              "      <td>0</td>\n",
              "      <td>Semangat terus. Maju terus di dalam TUHAN. God Bless you more and forever bpk ahok dan family</td>\n",
              "      <td>[semangat, maju, tuhan, god, bless, you, more, and, forever, bpk, ahok, family]</td>\n",
              "      <td>Non_HS</td>\n",
              "      <td>True</td>\n",
              "    </tr>\n",
              "    <tr>\n",
              "      <th>...</th>\n",
              "      <td>...</td>\n",
              "      <td>...</td>\n",
              "      <td>...</td>\n",
              "      <td>...</td>\n",
              "      <td>...</td>\n",
              "    </tr>\n",
              "    <tr>\n",
              "      <th>322</th>\n",
              "      <td>0</td>\n",
              "      <td>Terima kasih pak ahok pak djarot kami bangga perna di pimpin sama bapak berdua...tetap semangat...sukses terus pak</td>\n",
              "      <td>[terima, kasih, ahok, djarot, bangga, perna, pimpin, semangat, sukses]</td>\n",
              "      <td>Non_HS</td>\n",
              "      <td>True</td>\n",
              "    </tr>\n",
              "    <tr>\n",
              "      <th>401</th>\n",
              "      <td>0</td>\n",
              "      <td>Bapak ahok sosok yang saya banggakan, terimakasih pak sudah merubah jakarta.</td>\n",
              "      <td>[ahok, sosok, bangga, terimakasih, rubah, jakarta]</td>\n",
              "      <td>Non_HS</td>\n",
              "      <td>True</td>\n",
              "    </tr>\n",
              "    <tr>\n",
              "      <th>255</th>\n",
              "      <td>0</td>\n",
              "      <td>19 April adalah saat yang penting bagi warga Jakarta untuk menentukan masa depan Ibukota</td>\n",
              "      <td>[19, april, warga, jakarta, ibukota]</td>\n",
              "      <td>Non_HS</td>\n",
              "      <td>True</td>\n",
              "    </tr>\n",
              "    <tr>\n",
              "      <th>562</th>\n",
              "      <td>1</td>\n",
              "      <td>@budimandjatmiko ahok si kutil babi kembali ke rumah lembang kenapa jakarta jadi banjir bud?</td>\n",
              "      <td>[ahok, si, kutil, babi, rumah, lembang, jakarta, banjir, bud]</td>\n",
              "      <td>HS</td>\n",
              "      <td>True</td>\n",
              "    </tr>\n",
              "    <tr>\n",
              "      <th>41</th>\n",
              "      <td>0</td>\n",
              "      <td>#DebatFinalPilkadaJKT Denger banyak program dan janji dan sering tau pas jadi ga dijalankan rasanya males aja sih.</td>\n",
              "      <td>[debatfinalpilkadajkt, denger, program, janji, tau, pas, ga, jalan, males, aja, sih]</td>\n",
              "      <td>Non_HS</td>\n",
              "      <td>True</td>\n",
              "    </tr>\n",
              "  </tbody>\n",
              "</table>\n",
              "<p>121 rows × 5 columns</p>\n",
              "</div>"
            ],
            "text/plain": [
              "     Label  ... true_prediction\n",
              "407  0      ...  True          \n",
              "93   0      ...  True          \n",
              "315  0      ...  True          \n",
              "605  1      ...  True          \n",
              "331  0      ...  True          \n",
              "..  ..      ...   ...          \n",
              "322  0      ...  True          \n",
              "401  0      ...  True          \n",
              "255  0      ...  True          \n",
              "562  1      ...  True          \n",
              "41   0      ...  True          \n",
              "\n",
              "[121 rows x 5 columns]"
            ]
          },
          "metadata": {
            "tags": []
          }
        }
      ]
    },
    {
      "cell_type": "markdown",
      "metadata": {
        "id": "grAtTSOrLGAQ"
      },
      "source": [
        "**Analyze**"
      ]
    },
    {
      "cell_type": "code",
      "metadata": {
        "id": "5caVdmBWLI0U"
      },
      "source": [
        "df_result = df_pred.copy()"
      ],
      "execution_count": 160,
      "outputs": []
    },
    {
      "cell_type": "code",
      "metadata": {
        "id": "9PWQBn75LXMs"
      },
      "source": [
        "df_result['temp_list'] = df_result['Tweet'].apply(lambda x:str(x).split())"
      ],
      "execution_count": 161,
      "outputs": []
    },
    {
      "cell_type": "code",
      "metadata": {
        "id": "NZMY95iqLY5S"
      },
      "source": [
        "HS_sent = df_result[df_result['Label']== 0]\n",
        "NON_HS_sent = df_result[df_result['Label']== 1]"
      ],
      "execution_count": 162,
      "outputs": []
    },
    {
      "cell_type": "code",
      "metadata": {
        "colab": {
          "base_uri": "https://localhost:8080/",
          "height": 254
        },
        "id": "e2AQY-zZPG4s",
        "outputId": "c8ae8bb6-3a94-48d5-df10-66b54f2abe4e"
      },
      "source": [
        "from collections import Counter\n",
        "\n",
        "#MosT common hatespeech words\n",
        "top = Counter([item for sublist in HS_sent['temp_list'] for item in sublist])\n",
        "temp_positive = pd.DataFrame(top.most_common(10))\n",
        "temp_positive.columns = ['Common_words','count']\n",
        "temp_positive.style.background_gradient(cmap='Greens')"
      ],
      "execution_count": 164,
      "outputs": [
        {
          "output_type": "execute_result",
          "data": {
            "text/html": [
              "<style  type=\"text/css\" >\n",
              "#T_84439ed8_30c6_11eb_81b8_0242ac1c0002row0_col1{\n",
              "            background-color:  #00441b;\n",
              "            color:  #f1f1f1;\n",
              "        }#T_84439ed8_30c6_11eb_81b8_0242ac1c0002row1_col1,#T_84439ed8_30c6_11eb_81b8_0242ac1c0002row2_col1{\n",
              "            background-color:  #228a44;\n",
              "            color:  #000000;\n",
              "        }#T_84439ed8_30c6_11eb_81b8_0242ac1c0002row3_col1{\n",
              "            background-color:  #37a055;\n",
              "            color:  #000000;\n",
              "        }#T_84439ed8_30c6_11eb_81b8_0242ac1c0002row4_col1{\n",
              "            background-color:  #52b365;\n",
              "            color:  #000000;\n",
              "        }#T_84439ed8_30c6_11eb_81b8_0242ac1c0002row5_col1{\n",
              "            background-color:  #92d28f;\n",
              "            color:  #000000;\n",
              "        }#T_84439ed8_30c6_11eb_81b8_0242ac1c0002row6_col1{\n",
              "            background-color:  #aedea7;\n",
              "            color:  #000000;\n",
              "        }#T_84439ed8_30c6_11eb_81b8_0242ac1c0002row7_col1{\n",
              "            background-color:  #dbf1d6;\n",
              "            color:  #000000;\n",
              "        }#T_84439ed8_30c6_11eb_81b8_0242ac1c0002row8_col1{\n",
              "            background-color:  #ebf7e7;\n",
              "            color:  #000000;\n",
              "        }#T_84439ed8_30c6_11eb_81b8_0242ac1c0002row9_col1{\n",
              "            background-color:  #f7fcf5;\n",
              "            color:  #000000;\n",
              "        }</style><table id=\"T_84439ed8_30c6_11eb_81b8_0242ac1c0002\" ><thead>    <tr>        <th class=\"blank level0\" ></th>        <th class=\"col_heading level0 col0\" >Common_words</th>        <th class=\"col_heading level0 col1\" >count</th>    </tr></thead><tbody>\n",
              "                <tr>\n",
              "                        <th id=\"T_84439ed8_30c6_11eb_81b8_0242ac1c0002level0_row0\" class=\"row_heading level0 row0\" >0</th>\n",
              "                        <td id=\"T_84439ed8_30c6_11eb_81b8_0242ac1c0002row0_col0\" class=\"data row0 col0\" >dan</td>\n",
              "                        <td id=\"T_84439ed8_30c6_11eb_81b8_0242ac1c0002row0_col1\" class=\"data row0 col1\" >22</td>\n",
              "            </tr>\n",
              "            <tr>\n",
              "                        <th id=\"T_84439ed8_30c6_11eb_81b8_0242ac1c0002level0_row1\" class=\"row_heading level0 row1\" >1</th>\n",
              "                        <td id=\"T_84439ed8_30c6_11eb_81b8_0242ac1c0002row1_col0\" class=\"data row1 col0\" >di</td>\n",
              "                        <td id=\"T_84439ed8_30c6_11eb_81b8_0242ac1c0002row1_col1\" class=\"data row1 col1\" >19</td>\n",
              "            </tr>\n",
              "            <tr>\n",
              "                        <th id=\"T_84439ed8_30c6_11eb_81b8_0242ac1c0002level0_row2\" class=\"row_heading level0 row2\" >2</th>\n",
              "                        <td id=\"T_84439ed8_30c6_11eb_81b8_0242ac1c0002row2_col0\" class=\"data row2 col0\" >RT</td>\n",
              "                        <td id=\"T_84439ed8_30c6_11eb_81b8_0242ac1c0002row2_col1\" class=\"data row2 col1\" >19</td>\n",
              "            </tr>\n",
              "            <tr>\n",
              "                        <th id=\"T_84439ed8_30c6_11eb_81b8_0242ac1c0002level0_row3\" class=\"row_heading level0 row3\" >3</th>\n",
              "                        <td id=\"T_84439ed8_30c6_11eb_81b8_0242ac1c0002row3_col0\" class=\"data row3 col0\" >yg</td>\n",
              "                        <td id=\"T_84439ed8_30c6_11eb_81b8_0242ac1c0002row3_col1\" class=\"data row3 col1\" >18</td>\n",
              "            </tr>\n",
              "            <tr>\n",
              "                        <th id=\"T_84439ed8_30c6_11eb_81b8_0242ac1c0002level0_row4\" class=\"row_heading level0 row4\" >4</th>\n",
              "                        <td id=\"T_84439ed8_30c6_11eb_81b8_0242ac1c0002row4_col0\" class=\"data row4 col0\" >Ahok</td>\n",
              "                        <td id=\"T_84439ed8_30c6_11eb_81b8_0242ac1c0002row4_col1\" class=\"data row4 col1\" >17</td>\n",
              "            </tr>\n",
              "            <tr>\n",
              "                        <th id=\"T_84439ed8_30c6_11eb_81b8_0242ac1c0002level0_row5\" class=\"row_heading level0 row5\" >5</th>\n",
              "                        <td id=\"T_84439ed8_30c6_11eb_81b8_0242ac1c0002row5_col0\" class=\"data row5 col0\" >Pak</td>\n",
              "                        <td id=\"T_84439ed8_30c6_11eb_81b8_0242ac1c0002row5_col1\" class=\"data row5 col1\" >15</td>\n",
              "            </tr>\n",
              "            <tr>\n",
              "                        <th id=\"T_84439ed8_30c6_11eb_81b8_0242ac1c0002level0_row6\" class=\"row_heading level0 row6\" >6</th>\n",
              "                        <td id=\"T_84439ed8_30c6_11eb_81b8_0242ac1c0002row6_col0\" class=\"data row6 col0\" >#DebatFinalPilkadaJKT</td>\n",
              "                        <td id=\"T_84439ed8_30c6_11eb_81b8_0242ac1c0002row6_col1\" class=\"data row6 col1\" >14</td>\n",
              "            </tr>\n",
              "            <tr>\n",
              "                        <th id=\"T_84439ed8_30c6_11eb_81b8_0242ac1c0002level0_row7\" class=\"row_heading level0 row7\" >7</th>\n",
              "                        <td id=\"T_84439ed8_30c6_11eb_81b8_0242ac1c0002row7_col0\" class=\"data row7 col0\" >pak</td>\n",
              "                        <td id=\"T_84439ed8_30c6_11eb_81b8_0242ac1c0002row7_col1\" class=\"data row7 col1\" >12</td>\n",
              "            </tr>\n",
              "            <tr>\n",
              "                        <th id=\"T_84439ed8_30c6_11eb_81b8_0242ac1c0002level0_row8\" class=\"row_heading level0 row8\" >8</th>\n",
              "                        <td id=\"T_84439ed8_30c6_11eb_81b8_0242ac1c0002row8_col0\" class=\"data row8 col0\" >untuk</td>\n",
              "                        <td id=\"T_84439ed8_30c6_11eb_81b8_0242ac1c0002row8_col1\" class=\"data row8 col1\" >11</td>\n",
              "            </tr>\n",
              "            <tr>\n",
              "                        <th id=\"T_84439ed8_30c6_11eb_81b8_0242ac1c0002level0_row9\" class=\"row_heading level0 row9\" >9</th>\n",
              "                        <td id=\"T_84439ed8_30c6_11eb_81b8_0242ac1c0002row9_col0\" class=\"data row9 col0\" >yang</td>\n",
              "                        <td id=\"T_84439ed8_30c6_11eb_81b8_0242ac1c0002row9_col1\" class=\"data row9 col1\" >10</td>\n",
              "            </tr>\n",
              "    </tbody></table>"
            ],
            "text/plain": [
              "<pandas.io.formats.style.Styler at 0x7fd8479e1cc0>"
            ]
          },
          "metadata": {
            "tags": []
          },
          "execution_count": 164
        }
      ]
    },
    {
      "cell_type": "code",
      "metadata": {
        "colab": {
          "base_uri": "https://localhost:8080/",
          "height": 233
        },
        "id": "sw_R_9dxLbYW",
        "outputId": "b7346f41-b220-493b-959a-7bcc57fd1255"
      },
      "source": [
        "#MosT common non HS words\n",
        "top = Counter([item for sublist in NON_HS_sent['temp_list'] for item in sublist])\n",
        "temp_negative = pd.DataFrame(top.most_common(10))\n",
        "temp_negative = temp_negative.iloc[1:,:]\n",
        "temp_negative.columns = ['Common_words','count']\n",
        "temp_negative.style.background_gradient(cmap='Reds')"
      ],
      "execution_count": 166,
      "outputs": [
        {
          "output_type": "execute_result",
          "data": {
            "text/html": [
              "<style  type=\"text/css\" >\n",
              "#T_9741efd0_30c6_11eb_81b8_0242ac1c0002row0_col1{\n",
              "            background-color:  #67000d;\n",
              "            color:  #f1f1f1;\n",
              "        }#T_9741efd0_30c6_11eb_81b8_0242ac1c0002row1_col1{\n",
              "            background-color:  #ca181d;\n",
              "            color:  #f1f1f1;\n",
              "        }#T_9741efd0_30c6_11eb_81b8_0242ac1c0002row2_col1{\n",
              "            background-color:  #fb694a;\n",
              "            color:  #000000;\n",
              "        }#T_9741efd0_30c6_11eb_81b8_0242ac1c0002row3_col1,#T_9741efd0_30c6_11eb_81b8_0242ac1c0002row4_col1{\n",
              "            background-color:  #fcbba1;\n",
              "            color:  #000000;\n",
              "        }#T_9741efd0_30c6_11eb_81b8_0242ac1c0002row5_col1,#T_9741efd0_30c6_11eb_81b8_0242ac1c0002row6_col1,#T_9741efd0_30c6_11eb_81b8_0242ac1c0002row7_col1,#T_9741efd0_30c6_11eb_81b8_0242ac1c0002row8_col1{\n",
              "            background-color:  #fff5f0;\n",
              "            color:  #000000;\n",
              "        }</style><table id=\"T_9741efd0_30c6_11eb_81b8_0242ac1c0002\" ><thead>    <tr>        <th class=\"blank level0\" ></th>        <th class=\"col_heading level0 col0\" >Common_words</th>        <th class=\"col_heading level0 col1\" >count</th>    </tr></thead><tbody>\n",
              "                <tr>\n",
              "                        <th id=\"T_9741efd0_30c6_11eb_81b8_0242ac1c0002level0_row0\" class=\"row_heading level0 row0\" >1</th>\n",
              "                        <td id=\"T_9741efd0_30c6_11eb_81b8_0242ac1c0002row0_col0\" class=\"data row0 col0\" >penista</td>\n",
              "                        <td id=\"T_9741efd0_30c6_11eb_81b8_0242ac1c0002row0_col1\" class=\"data row0 col1\" >10</td>\n",
              "            </tr>\n",
              "            <tr>\n",
              "                        <th id=\"T_9741efd0_30c6_11eb_81b8_0242ac1c0002level0_row1\" class=\"row_heading level0 row1\" >2</th>\n",
              "                        <td id=\"T_9741efd0_30c6_11eb_81b8_0242ac1c0002row1_col0\" class=\"data row1 col0\" >yg</td>\n",
              "                        <td id=\"T_9741efd0_30c6_11eb_81b8_0242ac1c0002row1_col1\" class=\"data row1 col1\" >9</td>\n",
              "            </tr>\n",
              "            <tr>\n",
              "                        <th id=\"T_9741efd0_30c6_11eb_81b8_0242ac1c0002level0_row2\" class=\"row_heading level0 row2\" >3</th>\n",
              "                        <td id=\"T_9741efd0_30c6_11eb_81b8_0242ac1c0002row2_col0\" class=\"data row2 col0\" >itu</td>\n",
              "                        <td id=\"T_9741efd0_30c6_11eb_81b8_0242ac1c0002row2_col1\" class=\"data row2 col1\" >8</td>\n",
              "            </tr>\n",
              "            <tr>\n",
              "                        <th id=\"T_9741efd0_30c6_11eb_81b8_0242ac1c0002level0_row3\" class=\"row_heading level0 row3\" >4</th>\n",
              "                        <td id=\"T_9741efd0_30c6_11eb_81b8_0242ac1c0002row3_col0\" class=\"data row3 col0\" >RT</td>\n",
              "                        <td id=\"T_9741efd0_30c6_11eb_81b8_0242ac1c0002row3_col1\" class=\"data row3 col1\" >7</td>\n",
              "            </tr>\n",
              "            <tr>\n",
              "                        <th id=\"T_9741efd0_30c6_11eb_81b8_0242ac1c0002level0_row4\" class=\"row_heading level0 row4\" >5</th>\n",
              "                        <td id=\"T_9741efd0_30c6_11eb_81b8_0242ac1c0002row4_col0\" class=\"data row4 col0\" >dan</td>\n",
              "                        <td id=\"T_9741efd0_30c6_11eb_81b8_0242ac1c0002row4_col1\" class=\"data row4 col1\" >7</td>\n",
              "            </tr>\n",
              "            <tr>\n",
              "                        <th id=\"T_9741efd0_30c6_11eb_81b8_0242ac1c0002level0_row5\" class=\"row_heading level0 row5\" >6</th>\n",
              "                        <td id=\"T_9741efd0_30c6_11eb_81b8_0242ac1c0002row5_col0\" class=\"data row5 col0\" >gak</td>\n",
              "                        <td id=\"T_9741efd0_30c6_11eb_81b8_0242ac1c0002row5_col1\" class=\"data row5 col1\" >6</td>\n",
              "            </tr>\n",
              "            <tr>\n",
              "                        <th id=\"T_9741efd0_30c6_11eb_81b8_0242ac1c0002level0_row6\" class=\"row_heading level0 row6\" >7</th>\n",
              "                        <td id=\"T_9741efd0_30c6_11eb_81b8_0242ac1c0002row6_col0\" class=\"data row6 col0\" >Ahok</td>\n",
              "                        <td id=\"T_9741efd0_30c6_11eb_81b8_0242ac1c0002row6_col1\" class=\"data row6 col1\" >6</td>\n",
              "            </tr>\n",
              "            <tr>\n",
              "                        <th id=\"T_9741efd0_30c6_11eb_81b8_0242ac1c0002level0_row7\" class=\"row_heading level0 row7\" >8</th>\n",
              "                        <td id=\"T_9741efd0_30c6_11eb_81b8_0242ac1c0002row7_col0\" class=\"data row7 col0\" >si</td>\n",
              "                        <td id=\"T_9741efd0_30c6_11eb_81b8_0242ac1c0002row7_col1\" class=\"data row7 col1\" >6</td>\n",
              "            </tr>\n",
              "            <tr>\n",
              "                        <th id=\"T_9741efd0_30c6_11eb_81b8_0242ac1c0002level0_row8\" class=\"row_heading level0 row8\" >9</th>\n",
              "                        <td id=\"T_9741efd0_30c6_11eb_81b8_0242ac1c0002row8_col0\" class=\"data row8 col0\" >agama</td>\n",
              "                        <td id=\"T_9741efd0_30c6_11eb_81b8_0242ac1c0002row8_col1\" class=\"data row8 col1\" >6</td>\n",
              "            </tr>\n",
              "    </tbody></table>"
            ],
            "text/plain": [
              "<pandas.io.formats.style.Styler at 0x7fd84fe205f8>"
            ]
          },
          "metadata": {
            "tags": []
          },
          "execution_count": 166
        }
      ]
    },
    {
      "cell_type": "code",
      "metadata": {
        "id": "n5UmClgSW2Tf"
      },
      "source": [
        "raw_text = [word for word_list in df_result['temp_list'] for word in word_list]"
      ],
      "execution_count": 167,
      "outputs": []
    },
    {
      "cell_type": "code",
      "metadata": {
        "id": "yTNh3yNoOb_P"
      },
      "source": [
        "def words_unique(Label,numwords,raw_words):\n",
        "\n",
        "    allother = []\n",
        "    for item in df_result[df_result.Label != Label]['temp_list']:\n",
        "        for word in item:\n",
        "            allother .append(word)\n",
        "    allother  = list(set(allother ))\n",
        "    \n",
        "    specificnonly = [x for x in raw_text if x not in allother]\n",
        "    \n",
        "    mycounter = Counter()\n",
        "    \n",
        "    for item in df_result[df_result.Label == Label]['temp_list']:\n",
        "        for word in item:\n",
        "            mycounter[word] += 1\n",
        "    keep = list(specificnonly)\n",
        "    \n",
        "    for word in list(mycounter):\n",
        "        if word not in keep:\n",
        "            del mycounter[word]\n",
        "    \n",
        "    Unique_words = pd.DataFrame(mycounter.most_common(numwords), columns = ['words','count'])\n",
        "    \n",
        "    return Unique_words"
      ],
      "execution_count": 168,
      "outputs": []
    },
    {
      "cell_type": "code",
      "metadata": {
        "colab": {
          "base_uri": "https://localhost:8080/",
          "height": 272
        },
        "id": "0kTlceNNOhbW",
        "outputId": "f012d438-3f67-4db4-9c1a-2757fa16fdb7"
      },
      "source": [
        "Unique_Positive= words_unique(1, 10, raw_text)\n",
        "print(\"The top 20 unique words in Hatespeech Tweets are:\")\n",
        "Unique_Positive.style.background_gradient(cmap='Greens')"
      ],
      "execution_count": 171,
      "outputs": [
        {
          "output_type": "stream",
          "text": [
            "The top 20 unique words in Hatespeech Tweets are:\n"
          ],
          "name": "stdout"
        },
        {
          "output_type": "execute_result",
          "data": {
            "text/html": [
              "<style  type=\"text/css\" >\n",
              "#T_c29cbbd8_30c6_11eb_81b8_0242ac1c0002row0_col1{\n",
              "            background-color:  #00441b;\n",
              "            color:  #f1f1f1;\n",
              "        }#T_c29cbbd8_30c6_11eb_81b8_0242ac1c0002row1_col1,#T_c29cbbd8_30c6_11eb_81b8_0242ac1c0002row2_col1,#T_c29cbbd8_30c6_11eb_81b8_0242ac1c0002row3_col1{\n",
              "            background-color:  #73c476;\n",
              "            color:  #000000;\n",
              "        }#T_c29cbbd8_30c6_11eb_81b8_0242ac1c0002row4_col1,#T_c29cbbd8_30c6_11eb_81b8_0242ac1c0002row5_col1,#T_c29cbbd8_30c6_11eb_81b8_0242ac1c0002row6_col1,#T_c29cbbd8_30c6_11eb_81b8_0242ac1c0002row7_col1,#T_c29cbbd8_30c6_11eb_81b8_0242ac1c0002row8_col1,#T_c29cbbd8_30c6_11eb_81b8_0242ac1c0002row9_col1{\n",
              "            background-color:  #f7fcf5;\n",
              "            color:  #000000;\n",
              "        }</style><table id=\"T_c29cbbd8_30c6_11eb_81b8_0242ac1c0002\" ><thead>    <tr>        <th class=\"blank level0\" ></th>        <th class=\"col_heading level0 col0\" >words</th>        <th class=\"col_heading level0 col1\" >count</th>    </tr></thead><tbody>\n",
              "                <tr>\n",
              "                        <th id=\"T_c29cbbd8_30c6_11eb_81b8_0242ac1c0002level0_row0\" class=\"row_heading level0 row0\" >0</th>\n",
              "                        <td id=\"T_c29cbbd8_30c6_11eb_81b8_0242ac1c0002row0_col0\" class=\"data row0 col0\" >babi</td>\n",
              "                        <td id=\"T_c29cbbd8_30c6_11eb_81b8_0242ac1c0002row0_col1\" class=\"data row0 col1\" >5</td>\n",
              "            </tr>\n",
              "            <tr>\n",
              "                        <th id=\"T_c29cbbd8_30c6_11eb_81b8_0242ac1c0002level0_row1\" class=\"row_heading level0 row1\" >1</th>\n",
              "                        <td id=\"T_c29cbbd8_30c6_11eb_81b8_0242ac1c0002row1_col0\" class=\"data row1 col0\" >loh</td>\n",
              "                        <td id=\"T_c29cbbd8_30c6_11eb_81b8_0242ac1c0002row1_col1\" class=\"data row1 col1\" >4</td>\n",
              "            </tr>\n",
              "            <tr>\n",
              "                        <th id=\"T_c29cbbd8_30c6_11eb_81b8_0242ac1c0002level0_row2\" class=\"row_heading level0 row2\" >2</th>\n",
              "                        <td id=\"T_c29cbbd8_30c6_11eb_81b8_0242ac1c0002row2_col0\" class=\"data row2 col0\" >kpd</td>\n",
              "                        <td id=\"T_c29cbbd8_30c6_11eb_81b8_0242ac1c0002row2_col1\" class=\"data row2 col1\" >4</td>\n",
              "            </tr>\n",
              "            <tr>\n",
              "                        <th id=\"T_c29cbbd8_30c6_11eb_81b8_0242ac1c0002level0_row3\" class=\"row_heading level0 row3\" >3</th>\n",
              "                        <td id=\"T_c29cbbd8_30c6_11eb_81b8_0242ac1c0002row3_col0\" class=\"data row3 col0\" >kafir</td>\n",
              "                        <td id=\"T_c29cbbd8_30c6_11eb_81b8_0242ac1c0002row3_col1\" class=\"data row3 col1\" >4</td>\n",
              "            </tr>\n",
              "            <tr>\n",
              "                        <th id=\"T_c29cbbd8_30c6_11eb_81b8_0242ac1c0002level0_row4\" class=\"row_heading level0 row4\" >4</th>\n",
              "                        <td id=\"T_c29cbbd8_30c6_11eb_81b8_0242ac1c0002row4_col0\" class=\"data row4 col0\" >tau</td>\n",
              "                        <td id=\"T_c29cbbd8_30c6_11eb_81b8_0242ac1c0002row4_col1\" class=\"data row4 col1\" >3</td>\n",
              "            </tr>\n",
              "            <tr>\n",
              "                        <th id=\"T_c29cbbd8_30c6_11eb_81b8_0242ac1c0002level0_row5\" class=\"row_heading level0 row5\" >5</th>\n",
              "                        <td id=\"T_c29cbbd8_30c6_11eb_81b8_0242ac1c0002row5_col0\" class=\"data row5 col0\" >bisanya</td>\n",
              "                        <td id=\"T_c29cbbd8_30c6_11eb_81b8_0242ac1c0002row5_col1\" class=\"data row5 col1\" >3</td>\n",
              "            </tr>\n",
              "            <tr>\n",
              "                        <th id=\"T_c29cbbd8_30c6_11eb_81b8_0242ac1c0002level0_row6\" class=\"row_heading level0 row6\" >6</th>\n",
              "                        <td id=\"T_c29cbbd8_30c6_11eb_81b8_0242ac1c0002row6_col0\" class=\"data row6 col0\" >tuh</td>\n",
              "                        <td id=\"T_c29cbbd8_30c6_11eb_81b8_0242ac1c0002row6_col1\" class=\"data row6 col1\" >3</td>\n",
              "            </tr>\n",
              "            <tr>\n",
              "                        <th id=\"T_c29cbbd8_30c6_11eb_81b8_0242ac1c0002level0_row7\" class=\"row_heading level0 row7\" >7</th>\n",
              "                        <td id=\"T_c29cbbd8_30c6_11eb_81b8_0242ac1c0002row7_col0\" class=\"data row7 col0\" >partai</td>\n",
              "                        <td id=\"T_c29cbbd8_30c6_11eb_81b8_0242ac1c0002row7_col1\" class=\"data row7 col1\" >3</td>\n",
              "            </tr>\n",
              "            <tr>\n",
              "                        <th id=\"T_c29cbbd8_30c6_11eb_81b8_0242ac1c0002level0_row8\" class=\"row_heading level0 row8\" >8</th>\n",
              "                        <td id=\"T_c29cbbd8_30c6_11eb_81b8_0242ac1c0002row8_col0\" class=\"data row8 col0\" >SANGAT</td>\n",
              "                        <td id=\"T_c29cbbd8_30c6_11eb_81b8_0242ac1c0002row8_col1\" class=\"data row8 col1\" >3</td>\n",
              "            </tr>\n",
              "            <tr>\n",
              "                        <th id=\"T_c29cbbd8_30c6_11eb_81b8_0242ac1c0002level0_row9\" class=\"row_heading level0 row9\" >9</th>\n",
              "                        <td id=\"T_c29cbbd8_30c6_11eb_81b8_0242ac1c0002row9_col0\" class=\"data row9 col0\" >DAN</td>\n",
              "                        <td id=\"T_c29cbbd8_30c6_11eb_81b8_0242ac1c0002row9_col1\" class=\"data row9 col1\" >3</td>\n",
              "            </tr>\n",
              "    </tbody></table>"
            ],
            "text/plain": [
              "<pandas.io.formats.style.Styler at 0x7fd854a8b2b0>"
            ]
          },
          "metadata": {
            "tags": []
          },
          "execution_count": 171
        }
      ]
    },
    {
      "cell_type": "code",
      "metadata": {
        "colab": {
          "base_uri": "https://localhost:8080/",
          "height": 272
        },
        "id": "RJbyEXOhOmOg",
        "outputId": "3a4aabae-e324-45ff-b0e4-c27f221417eb"
      },
      "source": [
        "Unique_Negative= words_unique(0, 10, raw_text)\n",
        "print(\"The top 10 unique words in Non Hatespeech Tweets are:\")\n",
        "Unique_Negative.style.background_gradient(cmap='Reds')"
      ],
      "execution_count": 170,
      "outputs": [
        {
          "output_type": "stream",
          "text": [
            "The top 10 unique words in Non Hatespeech Tweets are:\n"
          ],
          "name": "stdout"
        },
        {
          "output_type": "execute_result",
          "data": {
            "text/html": [
              "<style  type=\"text/css\" >\n",
              "#T_af6429fc_30c6_11eb_81b8_0242ac1c0002row0_col1{\n",
              "            background-color:  #67000d;\n",
              "            color:  #f1f1f1;\n",
              "        }#T_af6429fc_30c6_11eb_81b8_0242ac1c0002row1_col1{\n",
              "            background-color:  #d92523;\n",
              "            color:  #f1f1f1;\n",
              "        }#T_af6429fc_30c6_11eb_81b8_0242ac1c0002row2_col1{\n",
              "            background-color:  #fcab8f;\n",
              "            color:  #000000;\n",
              "        }#T_af6429fc_30c6_11eb_81b8_0242ac1c0002row3_col1{\n",
              "            background-color:  #fdcab5;\n",
              "            color:  #000000;\n",
              "        }#T_af6429fc_30c6_11eb_81b8_0242ac1c0002row4_col1,#T_af6429fc_30c6_11eb_81b8_0242ac1c0002row5_col1,#T_af6429fc_30c6_11eb_81b8_0242ac1c0002row6_col1,#T_af6429fc_30c6_11eb_81b8_0242ac1c0002row7_col1{\n",
              "            background-color:  #fee5d8;\n",
              "            color:  #000000;\n",
              "        }#T_af6429fc_30c6_11eb_81b8_0242ac1c0002row8_col1,#T_af6429fc_30c6_11eb_81b8_0242ac1c0002row9_col1{\n",
              "            background-color:  #fff5f0;\n",
              "            color:  #000000;\n",
              "        }</style><table id=\"T_af6429fc_30c6_11eb_81b8_0242ac1c0002\" ><thead>    <tr>        <th class=\"blank level0\" ></th>        <th class=\"col_heading level0 col0\" >words</th>        <th class=\"col_heading level0 col1\" >count</th>    </tr></thead><tbody>\n",
              "                <tr>\n",
              "                        <th id=\"T_af6429fc_30c6_11eb_81b8_0242ac1c0002level0_row0\" class=\"row_heading level0 row0\" >0</th>\n",
              "                        <td id=\"T_af6429fc_30c6_11eb_81b8_0242ac1c0002row0_col0\" class=\"data row0 col0\" >Pak</td>\n",
              "                        <td id=\"T_af6429fc_30c6_11eb_81b8_0242ac1c0002row0_col1\" class=\"data row0 col1\" >15</td>\n",
              "            </tr>\n",
              "            <tr>\n",
              "                        <th id=\"T_af6429fc_30c6_11eb_81b8_0242ac1c0002level0_row1\" class=\"row_heading level0 row1\" >1</th>\n",
              "                        <td id=\"T_af6429fc_30c6_11eb_81b8_0242ac1c0002row1_col0\" class=\"data row1 col0\" >pak</td>\n",
              "                        <td id=\"T_af6429fc_30c6_11eb_81b8_0242ac1c0002row1_col1\" class=\"data row1 col1\" >12</td>\n",
              "            </tr>\n",
              "            <tr>\n",
              "                        <th id=\"T_af6429fc_30c6_11eb_81b8_0242ac1c0002level0_row2\" class=\"row_heading level0 row2\" >2</th>\n",
              "                        <td id=\"T_af6429fc_30c6_11eb_81b8_0242ac1c0002row2_col0\" class=\"data row2 col0\" >saya</td>\n",
              "                        <td id=\"T_af6429fc_30c6_11eb_81b8_0242ac1c0002row2_col1\" class=\"data row2 col1\" >8</td>\n",
              "            </tr>\n",
              "            <tr>\n",
              "                        <th id=\"T_af6429fc_30c6_11eb_81b8_0242ac1c0002level0_row3\" class=\"row_heading level0 row3\" >3</th>\n",
              "                        <td id=\"T_af6429fc_30c6_11eb_81b8_0242ac1c0002row3_col0\" class=\"data row3 col0\" >#MataNajwaDebatJakarta</td>\n",
              "                        <td id=\"T_af6429fc_30c6_11eb_81b8_0242ac1c0002row3_col1\" class=\"data row3 col1\" >7</td>\n",
              "            </tr>\n",
              "            <tr>\n",
              "                        <th id=\"T_af6429fc_30c6_11eb_81b8_0242ac1c0002level0_row4\" class=\"row_heading level0 row4\" >4</th>\n",
              "                        <td id=\"T_af6429fc_30c6_11eb_81b8_0242ac1c0002row4_col0\" class=\"data row4 col0\" >DKI</td>\n",
              "                        <td id=\"T_af6429fc_30c6_11eb_81b8_0242ac1c0002row4_col1\" class=\"data row4 col1\" >6</td>\n",
              "            </tr>\n",
              "            <tr>\n",
              "                        <th id=\"T_af6429fc_30c6_11eb_81b8_0242ac1c0002level0_row5\" class=\"row_heading level0 row5\" >5</th>\n",
              "                        <td id=\"T_af6429fc_30c6_11eb_81b8_0242ac1c0002row5_col0\" class=\"data row5 col0\" >3</td>\n",
              "                        <td id=\"T_af6429fc_30c6_11eb_81b8_0242ac1c0002row5_col1\" class=\"data row5 col1\" >6</td>\n",
              "            </tr>\n",
              "            <tr>\n",
              "                        <th id=\"T_af6429fc_30c6_11eb_81b8_0242ac1c0002level0_row6\" class=\"row_heading level0 row6\" >6</th>\n",
              "                        <td id=\"T_af6429fc_30c6_11eb_81b8_0242ac1c0002row6_col0\" class=\"data row6 col0\" >sudah</td>\n",
              "                        <td id=\"T_af6429fc_30c6_11eb_81b8_0242ac1c0002row6_col1\" class=\"data row6 col1\" >6</td>\n",
              "            </tr>\n",
              "            <tr>\n",
              "                        <th id=\"T_af6429fc_30c6_11eb_81b8_0242ac1c0002level0_row7\" class=\"row_heading level0 row7\" >7</th>\n",
              "                        <td id=\"T_af6429fc_30c6_11eb_81b8_0242ac1c0002row7_col0\" class=\"data row7 col0\" >Jakarta</td>\n",
              "                        <td id=\"T_af6429fc_30c6_11eb_81b8_0242ac1c0002row7_col1\" class=\"data row7 col1\" >6</td>\n",
              "            </tr>\n",
              "            <tr>\n",
              "                        <th id=\"T_af6429fc_30c6_11eb_81b8_0242ac1c0002level0_row8\" class=\"row_heading level0 row8\" >8</th>\n",
              "                        <td id=\"T_af6429fc_30c6_11eb_81b8_0242ac1c0002row8_col0\" class=\"data row8 col0\" >Jangan</td>\n",
              "                        <td id=\"T_af6429fc_30c6_11eb_81b8_0242ac1c0002row8_col1\" class=\"data row8 col1\" >5</td>\n",
              "            </tr>\n",
              "            <tr>\n",
              "                        <th id=\"T_af6429fc_30c6_11eb_81b8_0242ac1c0002level0_row9\" class=\"row_heading level0 row9\" >9</th>\n",
              "                        <td id=\"T_af6429fc_30c6_11eb_81b8_0242ac1c0002row9_col0\" class=\"data row9 col0\" >Pilkada</td>\n",
              "                        <td id=\"T_af6429fc_30c6_11eb_81b8_0242ac1c0002row9_col1\" class=\"data row9 col1\" >5</td>\n",
              "            </tr>\n",
              "    </tbody></table>"
            ],
            "text/plain": [
              "<pandas.io.formats.style.Styler at 0x7fd854a8bd68>"
            ]
          },
          "metadata": {
            "tags": []
          },
          "execution_count": 170
        }
      ]
    }
  ]
}