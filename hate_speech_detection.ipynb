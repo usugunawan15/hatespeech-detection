{
  "nbformat": 4,
  "nbformat_minor": 0,
  "metadata": {
    "colab": {
      "name": "hate-speech-detection.ipynb",
      "provenance": [],
      "authorship_tag": "ABX9TyOVOBOot82Bm38JNoCUx1wB",
      "include_colab_link": true
    },
    "kernelspec": {
      "name": "python3",
      "display_name": "Python 3"
    }
  },
  "cells": [
    {
      "cell_type": "markdown",
      "metadata": {
        "id": "view-in-github",
        "colab_type": "text"
      },
      "source": [
        "<a href=\"https://colab.research.google.com/github/usugunawan15/hatespeech-detection/blob/main/hate_speech_detection.ipynb\" target=\"_parent\"><img src=\"https://colab.research.google.com/assets/colab-badge.svg\" alt=\"Open In Colab\"/></a>"
      ]
    },
    {
      "cell_type": "markdown",
      "metadata": {
        "id": "UADbf6316P60"
      },
      "source": [
        "# **Hate Speech Detection**\n",
        "Usu Gunawan | DS0223"
      ]
    },
    {
      "cell_type": "code",
      "metadata": {
        "id": "vDfuqmgV5-D-"
      },
      "source": [
        ""
      ],
      "execution_count": null,
      "outputs": []
    }
  ]
}