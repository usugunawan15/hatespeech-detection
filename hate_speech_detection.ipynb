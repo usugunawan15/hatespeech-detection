{
  "nbformat": 4,
  "nbformat_minor": 0,
  "metadata": {
    "colab": {
      "name": "hate-speech-detection.ipynb",
      "provenance": [],
      "collapsed_sections": [],
      "authorship_tag": "ABX9TyNTLDnox3A55On+btvO8moT",
      "include_colab_link": true
    },
    "kernelspec": {
      "name": "python3",
      "display_name": "Python 3"
    }
  },
  "cells": [
    {
      "cell_type": "markdown",
      "metadata": {
        "id": "view-in-github",
        "colab_type": "text"
      },
      "source": [
        "<a href=\"https://colab.research.google.com/github/usugunawan15/hatespeech-detection/blob/main/hate_speech_detection.ipynb\" target=\"_parent\"><img src=\"https://colab.research.google.com/assets/colab-badge.svg\" alt=\"Open In Colab\"/></a>"
      ]
    },
    {
      "cell_type": "markdown",
      "metadata": {
        "id": "UADbf6316P60"
      },
      "source": [
        "# **Hate Speech Detection**\n",
        "Usu Gunawan | DS0223"
      ]
    },
    {
      "cell_type": "markdown",
      "metadata": {
        "id": "yM8i2_1XDEpW"
      },
      "source": [
        "**Import Library**"
      ]
    },
    {
      "cell_type": "code",
      "metadata": {
        "colab": {
          "base_uri": "https://localhost:8080/"
        },
        "id": "RmH-FvbJFOiw",
        "outputId": "01cfc239-3019-458e-fb5a-e07244a65aec"
      },
      "source": [
        "! pip3 install nltk\n",
        "! pip3 install Sastrawi\n",
        "import Sastrawi\n",
        "import nltk\n",
        "nltk.download('punkt')\n",
        "nltk.download('stopwords')"
      ],
      "execution_count": 6,
      "outputs": [
        {
          "output_type": "stream",
          "text": [
            "Requirement already satisfied: nltk in /usr/local/lib/python3.6/dist-packages (3.2.5)\n",
            "Requirement already satisfied: six in /usr/local/lib/python3.6/dist-packages (from nltk) (1.15.0)\n",
            "Collecting Sastrawi\n",
            "\u001b[?25l  Downloading https://files.pythonhosted.org/packages/6f/4b/bab676953da3103003730b8fcdfadbdd20f333d4add10af949dd5c51e6ed/Sastrawi-1.0.1-py2.py3-none-any.whl (209kB)\n",
            "\u001b[K     |████████████████████████████████| 215kB 4.2MB/s \n",
            "\u001b[?25hInstalling collected packages: Sastrawi\n",
            "Successfully installed Sastrawi-1.0.1\n",
            "[nltk_data] Downloading package punkt to /root/nltk_data...\n",
            "[nltk_data]   Unzipping tokenizers/punkt.zip.\n",
            "[nltk_data] Downloading package stopwords to /root/nltk_data...\n",
            "[nltk_data]   Unzipping corpora/stopwords.zip.\n"
          ],
          "name": "stdout"
        },
        {
          "output_type": "execute_result",
          "data": {
            "text/plain": [
              "True"
            ]
          },
          "metadata": {
            "tags": []
          },
          "execution_count": 6
        }
      ]
    },
    {
      "cell_type": "code",
      "metadata": {
        "id": "vDfuqmgV5-D-"
      },
      "source": [
        "import pandas as pd\n",
        "import seaborn as sns\n",
        "import numpy as np\n",
        "from tqdm import tqdm\n",
        "import matplotlib.pyplot as plt\n",
        "import re\n",
        "from sklearn.metrics import classification_report\n",
        "from sklearn.feature_extraction.text import CountVectorizer, TfidfTransformer, TfidfVectorizer\n",
        "from sklearn.svm import SVC\n",
        "from sklearn.model_selection import train_test_split\n",
        "from sklearn.metrics import make_scorer, accuracy_score, f1_score\n",
        "from sklearn.metrics import confusion_matrix, roc_auc_score, recall_score, precision_score"
      ],
      "execution_count": 7,
      "outputs": []
    },
    {
      "cell_type": "code",
      "metadata": {
        "id": "DVyc1pwXF2lU"
      },
      "source": [
        "import requests\n",
        "import io\n",
        "\n",
        "response = requests.get('https://raw.githubusercontent.com/usugunawan15/hatespeech-detection/main/dataset_hatespeech.txt')\n",
        "data = io.StringIO(response.text)"
      ],
      "execution_count": 8,
      "outputs": []
    },
    {
      "cell_type": "code",
      "metadata": {
        "colab": {
          "base_uri": "https://localhost:8080/",
          "height": 206
        },
        "id": "fq9NTXIhGStD",
        "outputId": "e8c78e6d-1a16-4baa-e16d-38a1a6c24da8"
      },
      "source": [
        "df = pd.read_csv(data,sep='\\t')\n",
        "df.head()"
      ],
      "execution_count": 9,
      "outputs": [
        {
          "output_type": "execute_result",
          "data": {
            "text/html": [
              "<div>\n",
              "<style scoped>\n",
              "    .dataframe tbody tr th:only-of-type {\n",
              "        vertical-align: middle;\n",
              "    }\n",
              "\n",
              "    .dataframe tbody tr th {\n",
              "        vertical-align: top;\n",
              "    }\n",
              "\n",
              "    .dataframe thead th {\n",
              "        text-align: right;\n",
              "    }\n",
              "</style>\n",
              "<table border=\"1\" class=\"dataframe\">\n",
              "  <thead>\n",
              "    <tr style=\"text-align: right;\">\n",
              "      <th></th>\n",
              "      <th>Label</th>\n",
              "      <th>Tweet</th>\n",
              "    </tr>\n",
              "  </thead>\n",
              "  <tbody>\n",
              "    <tr>\n",
              "      <th>0</th>\n",
              "      <td>Non_HS</td>\n",
              "      <td>RT @spardaxyz: Fadli Zon Minta Mendagri Segera...</td>\n",
              "    </tr>\n",
              "    <tr>\n",
              "      <th>1</th>\n",
              "      <td>Non_HS</td>\n",
              "      <td>RT @baguscondromowo: Mereka terus melukai aksi...</td>\n",
              "    </tr>\n",
              "    <tr>\n",
              "      <th>2</th>\n",
              "      <td>Non_HS</td>\n",
              "      <td>Sylvi: bagaimana gurbernur melakukan kekerasan...</td>\n",
              "    </tr>\n",
              "    <tr>\n",
              "      <th>3</th>\n",
              "      <td>Non_HS</td>\n",
              "      <td>Ahmad Dhani Tak Puas Debat Pilkada, Masalah Ja...</td>\n",
              "    </tr>\n",
              "    <tr>\n",
              "      <th>4</th>\n",
              "      <td>Non_HS</td>\n",
              "      <td>RT @lisdaulay28: Waspada KTP palsu.....kawal P...</td>\n",
              "    </tr>\n",
              "  </tbody>\n",
              "</table>\n",
              "</div>"
            ],
            "text/plain": [
              "    Label                                              Tweet\n",
              "0  Non_HS  RT @spardaxyz: Fadli Zon Minta Mendagri Segera...\n",
              "1  Non_HS  RT @baguscondromowo: Mereka terus melukai aksi...\n",
              "2  Non_HS  Sylvi: bagaimana gurbernur melakukan kekerasan...\n",
              "3  Non_HS  Ahmad Dhani Tak Puas Debat Pilkada, Masalah Ja...\n",
              "4  Non_HS  RT @lisdaulay28: Waspada KTP palsu.....kawal P..."
            ]
          },
          "metadata": {
            "tags": []
          },
          "execution_count": 9
        }
      ]
    },
    {
      "cell_type": "code",
      "metadata": {
        "colab": {
          "base_uri": "https://localhost:8080/"
        },
        "id": "iyJBc2D6Hk0c",
        "outputId": "856dcdc4-4de5-4c4d-9794-79d17c206ff8"
      },
      "source": [
        "df['Label'].value_counts()"
      ],
      "execution_count": 10,
      "outputs": [
        {
          "output_type": "execute_result",
          "data": {
            "text/plain": [
              "Non_HS    453\n",
              "HS        260\n",
              "Name: Label, dtype: int64"
            ]
          },
          "metadata": {
            "tags": []
          },
          "execution_count": 10
        }
      ]
    },
    {
      "cell_type": "markdown",
      "metadata": {
        "id": "GlCTbkXubDsu"
      },
      "source": [
        "**Text Cleaning**"
      ]
    },
    {
      "cell_type": "code",
      "metadata": {
        "id": "fU3w-AqlabVw"
      },
      "source": [
        "#Melakukan penghapusan data yang tidak relevan\n",
        "casefold = []\n",
        "for i in df['Tweet'] :\n",
        "  try :\n",
        "    removed = i.replace(\"RT\", \"\") # Menghapus retweet\n",
        "    removed = re.sub(r'@[A-Za-z0-9_]+', '', removed) # Menghapus username twitter\n",
        "    removed = re.sub(r'https?:\\\\[^ ]+', '', removed) #Menghapus alamat website\n",
        "    removed = re.sub(r'[\\W+|_]+', ' ', removed).lower() #menghapus karakter spesial kecuali spasi\n",
        "\n",
        "    casefold.append(removed)\n",
        "  except :\n",
        "    continue"
      ],
      "execution_count": 11,
      "outputs": []
    },
    {
      "cell_type": "code",
      "metadata": {
        "colab": {
          "base_uri": "https://localhost:8080/",
          "height": 206
        },
        "id": "lySJr-bnZ8-B",
        "outputId": "5e92a651-ffe8-4e92-ac54-461c92b25057"
      },
      "source": [
        "clean = pd.DataFrame({'clean_text':casefold})\n",
        "clean.head()"
      ],
      "execution_count": 12,
      "outputs": [
        {
          "output_type": "execute_result",
          "data": {
            "text/html": [
              "<div>\n",
              "<style scoped>\n",
              "    .dataframe tbody tr th:only-of-type {\n",
              "        vertical-align: middle;\n",
              "    }\n",
              "\n",
              "    .dataframe tbody tr th {\n",
              "        vertical-align: top;\n",
              "    }\n",
              "\n",
              "    .dataframe thead th {\n",
              "        text-align: right;\n",
              "    }\n",
              "</style>\n",
              "<table border=\"1\" class=\"dataframe\">\n",
              "  <thead>\n",
              "    <tr style=\"text-align: right;\">\n",
              "      <th></th>\n",
              "      <th>clean_text</th>\n",
              "    </tr>\n",
              "  </thead>\n",
              "  <tbody>\n",
              "    <tr>\n",
              "      <th>0</th>\n",
              "      <td>fadli zon minta mendagri segera menonaktifkan...</td>\n",
              "    </tr>\n",
              "    <tr>\n",
              "      <th>1</th>\n",
              "      <td>mereka terus melukai aksi dalam rangka memenj...</td>\n",
              "    </tr>\n",
              "    <tr>\n",
              "      <th>2</th>\n",
              "      <td>sylvi bagaimana gurbernur melakukan kekerasan ...</td>\n",
              "    </tr>\n",
              "    <tr>\n",
              "      <th>3</th>\n",
              "      <td>ahmad dhani tak puas debat pilkada masalah jal...</td>\n",
              "    </tr>\n",
              "    <tr>\n",
              "      <th>4</th>\n",
              "      <td>waspada ktp palsu kawal pilkada</td>\n",
              "    </tr>\n",
              "  </tbody>\n",
              "</table>\n",
              "</div>"
            ],
            "text/plain": [
              "                                          clean_text\n",
              "0   fadli zon minta mendagri segera menonaktifkan...\n",
              "1   mereka terus melukai aksi dalam rangka memenj...\n",
              "2  sylvi bagaimana gurbernur melakukan kekerasan ...\n",
              "3  ahmad dhani tak puas debat pilkada masalah jal...\n",
              "4                   waspada ktp palsu kawal pilkada "
            ]
          },
          "metadata": {
            "tags": []
          },
          "execution_count": 12
        }
      ]
    },
    {
      "cell_type": "markdown",
      "metadata": {
        "id": "ANwCXb-VpxBg"
      },
      "source": [
        "**Stemming**"
      ]
    },
    {
      "cell_type": "code",
      "metadata": {
        "id": "3ZmGPXK0bXpd"
      },
      "source": [
        "from Sastrawi.Stemmer.StemmerFactory import StemmerFactory\n",
        "# factory = StopWordRemoverFactory()\n",
        "# stopword = factory.create_stop_word_remover()\n",
        "factory = StemmerFactory()\n",
        "stemmer = factory.create_stemmer()\n",
        "stemm = []\n",
        "for i in casefold :\n",
        "  hasil = stemmer.stem(i)\n",
        "  stemm.append(hasil)"
      ],
      "execution_count": 13,
      "outputs": []
    },
    {
      "cell_type": "code",
      "metadata": {
        "colab": {
          "base_uri": "https://localhost:8080/",
          "height": 206
        },
        "id": "--dR4KjldgaU",
        "outputId": "5fe8b60f-dead-43e0-9c9e-9a932d6ebb1d"
      },
      "source": [
        "stem =pd.DataFrame({'stem': stemm})\n",
        "stem.head()"
      ],
      "execution_count": 14,
      "outputs": [
        {
          "output_type": "execute_result",
          "data": {
            "text/html": [
              "<div>\n",
              "<style scoped>\n",
              "    .dataframe tbody tr th:only-of-type {\n",
              "        vertical-align: middle;\n",
              "    }\n",
              "\n",
              "    .dataframe tbody tr th {\n",
              "        vertical-align: top;\n",
              "    }\n",
              "\n",
              "    .dataframe thead th {\n",
              "        text-align: right;\n",
              "    }\n",
              "</style>\n",
              "<table border=\"1\" class=\"dataframe\">\n",
              "  <thead>\n",
              "    <tr style=\"text-align: right;\">\n",
              "      <th></th>\n",
              "      <th>stem</th>\n",
              "    </tr>\n",
              "  </thead>\n",
              "  <tbody>\n",
              "    <tr>\n",
              "      <th>0</th>\n",
              "      <td>fadli zon minta mendagri segera nonaktif ahok ...</td>\n",
              "    </tr>\n",
              "    <tr>\n",
              "      <th>1</th>\n",
              "      <td>mereka terus luka aksi dalam rangka penjara ah...</td>\n",
              "    </tr>\n",
              "    <tr>\n",
              "      <th>2</th>\n",
              "      <td>sylvi bagaimana gurbernur laku keras perempuan...</td>\n",
              "    </tr>\n",
              "    <tr>\n",
              "      <th>3</th>\n",
              "      <td>ahmad dhani tak puas debat pilkada masalah jal...</td>\n",
              "    </tr>\n",
              "    <tr>\n",
              "      <th>4</th>\n",
              "      <td>waspada ktp palsu kawal pilkada</td>\n",
              "    </tr>\n",
              "  </tbody>\n",
              "</table>\n",
              "</div>"
            ],
            "text/plain": [
              "                                                stem\n",
              "0  fadli zon minta mendagri segera nonaktif ahok ...\n",
              "1  mereka terus luka aksi dalam rangka penjara ah...\n",
              "2  sylvi bagaimana gurbernur laku keras perempuan...\n",
              "3  ahmad dhani tak puas debat pilkada masalah jal...\n",
              "4                    waspada ktp palsu kawal pilkada"
            ]
          },
          "metadata": {
            "tags": []
          },
          "execution_count": 14
        }
      ]
    },
    {
      "cell_type": "markdown",
      "metadata": {
        "id": "PDys4Z35x1Xt"
      },
      "source": [
        "**Tokenization**"
      ]
    },
    {
      "cell_type": "code",
      "metadata": {
        "id": "jSawNYF7pRZh"
      },
      "source": [
        "from nltk.tokenize import sent_tokenize, word_tokenize\n",
        "from nltk.corpus import stopwords\n",
        "clean_text = []\n",
        "listStopword =  set(stopwords.words('indonesian'))\n",
        "tokenized = []\n",
        "for i in stemm :\n",
        "  tokens = nltk.tokenize.word_tokenize(i)\n",
        "  tokenized.append(tokens)"
      ],
      "execution_count": 15,
      "outputs": []
    },
    {
      "cell_type": "code",
      "metadata": {
        "colab": {
          "base_uri": "https://localhost:8080/",
          "height": 206
        },
        "id": "xRX5UhLup4fz",
        "outputId": "ec9c8084-a73c-4eb9-89eb-91a9c6192451"
      },
      "source": [
        "token = pd.DataFrame({'tokenized':tokenized})\n",
        "token.head()"
      ],
      "execution_count": 16,
      "outputs": [
        {
          "output_type": "execute_result",
          "data": {
            "text/html": [
              "<div>\n",
              "<style scoped>\n",
              "    .dataframe tbody tr th:only-of-type {\n",
              "        vertical-align: middle;\n",
              "    }\n",
              "\n",
              "    .dataframe tbody tr th {\n",
              "        vertical-align: top;\n",
              "    }\n",
              "\n",
              "    .dataframe thead th {\n",
              "        text-align: right;\n",
              "    }\n",
              "</style>\n",
              "<table border=\"1\" class=\"dataframe\">\n",
              "  <thead>\n",
              "    <tr style=\"text-align: right;\">\n",
              "      <th></th>\n",
              "      <th>tokenized</th>\n",
              "    </tr>\n",
              "  </thead>\n",
              "  <tbody>\n",
              "    <tr>\n",
              "      <th>0</th>\n",
              "      <td>[fadli, zon, minta, mendagri, segera, nonaktif...</td>\n",
              "    </tr>\n",
              "    <tr>\n",
              "      <th>1</th>\n",
              "      <td>[mereka, terus, luka, aksi, dalam, rangka, pen...</td>\n",
              "    </tr>\n",
              "    <tr>\n",
              "      <th>2</th>\n",
              "      <td>[sylvi, bagaimana, gurbernur, laku, keras, per...</td>\n",
              "    </tr>\n",
              "    <tr>\n",
              "      <th>3</th>\n",
              "      <td>[ahmad, dhani, tak, puas, debat, pilkada, masa...</td>\n",
              "    </tr>\n",
              "    <tr>\n",
              "      <th>4</th>\n",
              "      <td>[waspada, ktp, palsu, kawal, pilkada]</td>\n",
              "    </tr>\n",
              "  </tbody>\n",
              "</table>\n",
              "</div>"
            ],
            "text/plain": [
              "                                           tokenized\n",
              "0  [fadli, zon, minta, mendagri, segera, nonaktif...\n",
              "1  [mereka, terus, luka, aksi, dalam, rangka, pen...\n",
              "2  [sylvi, bagaimana, gurbernur, laku, keras, per...\n",
              "3  [ahmad, dhani, tak, puas, debat, pilkada, masa...\n",
              "4              [waspada, ktp, palsu, kawal, pilkada]"
            ]
          },
          "metadata": {
            "tags": []
          },
          "execution_count": 16
        }
      ]
    },
    {
      "cell_type": "markdown",
      "metadata": {
        "id": "uSkTZ-XMI-6o"
      },
      "source": [
        "**Remove Stop Words**"
      ]
    },
    {
      "cell_type": "code",
      "metadata": {
        "id": "yElqkucXx5T5"
      },
      "source": [
        "def remove_stopwords(txt_tokenized):\n",
        "    txt_clear = [w for w in txt_tokenized if not w in listStopword]\n",
        "    return txt_clear\n",
        "\n",
        "df['no_sw'] = token['tokenized'].apply(lambda x: remove_stopwords(x))"
      ],
      "execution_count": 22,
      "outputs": []
    },
    {
      "cell_type": "code",
      "metadata": {
        "colab": {
          "base_uri": "https://localhost:8080/",
          "height": 206
        },
        "id": "aUwO4F8p1fsH",
        "outputId": "bcf842c6-8882-4eba-ec0e-69c0c60405bf"
      },
      "source": [
        "df.head()"
      ],
      "execution_count": 23,
      "outputs": [
        {
          "output_type": "execute_result",
          "data": {
            "text/html": [
              "<div>\n",
              "<style scoped>\n",
              "    .dataframe tbody tr th:only-of-type {\n",
              "        vertical-align: middle;\n",
              "    }\n",
              "\n",
              "    .dataframe tbody tr th {\n",
              "        vertical-align: top;\n",
              "    }\n",
              "\n",
              "    .dataframe thead th {\n",
              "        text-align: right;\n",
              "    }\n",
              "</style>\n",
              "<table border=\"1\" class=\"dataframe\">\n",
              "  <thead>\n",
              "    <tr style=\"text-align: right;\">\n",
              "      <th></th>\n",
              "      <th>Label</th>\n",
              "      <th>Tweet</th>\n",
              "      <th>no_sw</th>\n",
              "    </tr>\n",
              "  </thead>\n",
              "  <tbody>\n",
              "    <tr>\n",
              "      <th>0</th>\n",
              "      <td>Non_HS</td>\n",
              "      <td>RT @spardaxyz: Fadli Zon Minta Mendagri Segera...</td>\n",
              "      <td>[fadli, zon, mendagri, nonaktif, ahok, gubernu...</td>\n",
              "    </tr>\n",
              "    <tr>\n",
              "      <th>1</th>\n",
              "      <td>Non_HS</td>\n",
              "      <td>RT @baguscondromowo: Mereka terus melukai aksi...</td>\n",
              "      <td>[luka, aksi, rangka, penjara, ahok, ahok, gaga...</td>\n",
              "    </tr>\n",
              "    <tr>\n",
              "      <th>2</th>\n",
              "      <td>Non_HS</td>\n",
              "      <td>Sylvi: bagaimana gurbernur melakukan kekerasan...</td>\n",
              "      <td>[sylvi, gurbernur, laku, keras, perempuan, buk...</td>\n",
              "    </tr>\n",
              "    <tr>\n",
              "      <th>3</th>\n",
              "      <td>Non_HS</td>\n",
              "      <td>Ahmad Dhani Tak Puas Debat Pilkada, Masalah Ja...</td>\n",
              "      <td>[ahmad, dhani, puas, debat, pilkada, jalan, be...</td>\n",
              "    </tr>\n",
              "    <tr>\n",
              "      <th>4</th>\n",
              "      <td>Non_HS</td>\n",
              "      <td>RT @lisdaulay28: Waspada KTP palsu.....kawal P...</td>\n",
              "      <td>[waspada, ktp, palsu, kawal, pilkada]</td>\n",
              "    </tr>\n",
              "  </tbody>\n",
              "</table>\n",
              "</div>"
            ],
            "text/plain": [
              "    Label  ...                                              no_sw\n",
              "0  Non_HS  ...  [fadli, zon, mendagri, nonaktif, ahok, gubernu...\n",
              "1  Non_HS  ...  [luka, aksi, rangka, penjara, ahok, ahok, gaga...\n",
              "2  Non_HS  ...  [sylvi, gurbernur, laku, keras, perempuan, buk...\n",
              "3  Non_HS  ...  [ahmad, dhani, puas, debat, pilkada, jalan, be...\n",
              "4  Non_HS  ...              [waspada, ktp, palsu, kawal, pilkada]\n",
              "\n",
              "[5 rows x 3 columns]"
            ]
          },
          "metadata": {
            "tags": []
          },
          "execution_count": 23
        }
      ]
    },
    {
      "cell_type": "markdown",
      "metadata": {
        "id": "WCuhbqBIJC93"
      },
      "source": [
        "**Clean Text**"
      ]
    },
    {
      "cell_type": "code",
      "metadata": {
        "id": "T2tPOau21sO1"
      },
      "source": [
        "clean_text = []\n",
        "for kata in df['no_sw']:\n",
        "  joined = ' '.join(kata)\n",
        "  clean_text.append(joined)"
      ],
      "execution_count": 25,
      "outputs": []
    },
    {
      "cell_type": "code",
      "metadata": {
        "colab": {
          "base_uri": "https://localhost:8080/",
          "height": 206
        },
        "id": "ADOX3GTX2z5G",
        "outputId": "36fdccea-5c2b-40a2-cf01-3646c8af5c3e"
      },
      "source": [
        "clean_text = pd.DataFrame({'clean':clean_text})\n",
        "clean_text.head()"
      ],
      "execution_count": 26,
      "outputs": [
        {
          "output_type": "execute_result",
          "data": {
            "text/html": [
              "<div>\n",
              "<style scoped>\n",
              "    .dataframe tbody tr th:only-of-type {\n",
              "        vertical-align: middle;\n",
              "    }\n",
              "\n",
              "    .dataframe tbody tr th {\n",
              "        vertical-align: top;\n",
              "    }\n",
              "\n",
              "    .dataframe thead th {\n",
              "        text-align: right;\n",
              "    }\n",
              "</style>\n",
              "<table border=\"1\" class=\"dataframe\">\n",
              "  <thead>\n",
              "    <tr style=\"text-align: right;\">\n",
              "      <th></th>\n",
              "      <th>clean</th>\n",
              "    </tr>\n",
              "  </thead>\n",
              "  <tbody>\n",
              "    <tr>\n",
              "      <th>0</th>\n",
              "      <td>fadli zon mendagri nonaktif ahok gubernur dki</td>\n",
              "    </tr>\n",
              "    <tr>\n",
              "      <th>1</th>\n",
              "      <td>luka aksi rangka penjara ahok ahok gagal pilkada</td>\n",
              "    </tr>\n",
              "    <tr>\n",
              "      <th>2</th>\n",
              "      <td>sylvi gurbernur laku keras perempuan bukti ibu...</td>\n",
              "    </tr>\n",
              "    <tr>\n",
              "      <th>3</th>\n",
              "      <td>ahmad dhani puas debat pilkada jalan bekas</td>\n",
              "    </tr>\n",
              "    <tr>\n",
              "      <th>4</th>\n",
              "      <td>waspada ktp palsu kawal pilkada</td>\n",
              "    </tr>\n",
              "  </tbody>\n",
              "</table>\n",
              "</div>"
            ],
            "text/plain": [
              "                                               clean\n",
              "0      fadli zon mendagri nonaktif ahok gubernur dki\n",
              "1   luka aksi rangka penjara ahok ahok gagal pilkada\n",
              "2  sylvi gurbernur laku keras perempuan bukti ibu...\n",
              "3         ahmad dhani puas debat pilkada jalan bekas\n",
              "4                    waspada ktp palsu kawal pilkada"
            ]
          },
          "metadata": {
            "tags": []
          },
          "execution_count": 26
        }
      ]
    },
    {
      "cell_type": "markdown",
      "metadata": {
        "id": "nmK6m7A-JxMr"
      },
      "source": [
        "**Word Cloud Image**"
      ]
    },
    {
      "cell_type": "code",
      "metadata": {
        "colab": {
          "base_uri": "https://localhost:8080/",
          "height": 198
        },
        "id": "TznuhbWd29qy",
        "outputId": "2491784c-23d8-4938-cee7-87c25a670650"
      },
      "source": [
        "from os import path\n",
        "from PIL import Image\n",
        "from wordcloud import WordCloud, STOPWORDS, ImageColorGenerator\n",
        "import matplotlib.pyplot as plt\n",
        "import warnings\n",
        "warnings.filterwarnings(\"ignore\")\n",
        "# Create and generate a word cloud image:\n",
        "word = df.Tweet[df['Label']=='HS'].astype('string')\n",
        "word.head()\n",
        "wordcloud = WordCloud(max_font_size=50, max_words=100, background_color=\"white\").generate_from_text(' '.join(word))\n",
        "# Display the generated image:\n",
        "plt.imshow(wordcloud, interpolation='bilinear')\n",
        "plt.axis(\"off\")\n",
        "plt.show()\n"
      ],
      "execution_count": 27,
      "outputs": [
        {
          "output_type": "display_data",
          "data": {
            "image/png": "[encoded data removed]",
            "text/plain": [
              "<Figure size 432x288 with 1 Axes>"
            ]
          },
          "metadata": {
            "tags": [],
            "needs_background": "light"
          }
        }
      ]
    },
    {
      "cell_type": "markdown",
      "metadata": {
        "id": "dJcb9bPz6Wsi"
      },
      "source": [
        "**Split Data**"
      ]
    },
    {
      "cell_type": "code",
      "metadata": {
        "id": "lFahmMO-6ZNj"
      },
      "source": [
        "df_train, df_test = train_test_split(df, test_size=0.2)"
      ],
      "execution_count": 28,
      "outputs": []
    },
    {
      "cell_type": "markdown",
      "metadata": {
        "id": "64PAbhg06efd"
      },
      "source": [
        "**Feature Extraction**"
      ]
    },
    {
      "cell_type": "code",
      "metadata": {
        "id": "ySoAEw-O6g5o"
      },
      "source": [
        "Tfidf_vect = TfidfVectorizer()\n",
        "Tfidf_vect.fit(df['Tweet'])\n",
        "Train_X_Tfidf = Tfidf_vect.transform(df_train['Tweet'])\n",
        "Test_X_Tfidf = Tfidf_vect.transform(df_test['Tweet'])\n",
        "y_train = df_train['Label'].to_numpy()\n",
        "y_test = df_test['Label'].to_numpy()"
      ],
      "execution_count": 29,
      "outputs": []
    },
    {
      "cell_type": "code",
      "metadata": {
        "id": "3yvBISzQ7FDW"
      },
      "source": [
        "def klasifikasi(df):\n",
        "  classifier = SVC(kernel=df, random_state=1)\n",
        "  classifier.fit(Train_X_Tfidf, y_train)\n",
        "\n",
        "  y_pred = classifier.predict(Test_X_Tfidf)\n",
        " \n",
        "  print('result = ')\n",
        "  print('akurasi  =',accuracy_score(y_test, y_pred)*100,'%')\n",
        "\n",
        "  print('presisi  =',precision_score(y_test, y_pred, average='macro')*100,'%')\n",
        "\n",
        "  print('recall   =',recall_score(y_test, y_pred, average='macro')*100,'%')\n",
        "\n",
        "  print('f1 score =',f1_score(y_test, y_pred, average='macro')*100,'%')"
      ],
      "execution_count": 41,
      "outputs": []
    },
    {
      "cell_type": "code",
      "metadata": {
        "colab": {
          "base_uri": "https://localhost:8080/"
        },
        "id": "IN-gw6Ed7IWF",
        "outputId": "c3e19746-bd72-4f82-d09c-2bda84b77437"
      },
      "source": [
        "klasifikasi('sigmoid')"
      ],
      "execution_count": 43,
      "outputs": [
        {
          "output_type": "stream",
          "text": [
            "result = \n",
            "akurasi  = 84.61538461538461 %\n",
            "presisi  = 87.88451160280626 %\n",
            "recall   = 79.67032967032968 %\n",
            "f1 score = 81.7093023255814 %\n"
          ],
          "name": "stdout"
        }
      ]
    },
    {
      "cell_type": "code",
      "metadata": {
        "colab": {
          "base_uri": "https://localhost:8080/"
        },
        "id": "6daAAb6q7Iod",
        "outputId": "72674ea1-6507-4512-d032-a2a63252fbb2"
      },
      "source": [
        "klasifikasi('rbf')"
      ],
      "execution_count": 44,
      "outputs": [
        {
          "output_type": "stream",
          "text": [
            "result = \n",
            "akurasi  = 78.32167832167832 %\n",
            "presisi  = 85.32608695652173 %\n",
            "recall   = 70.6043956043956 %\n",
            "f1 score = 71.9873617693523 %\n"
          ],
          "name": "stdout"
        }
      ]
    },
    {
      "cell_type": "code",
      "metadata": {
        "colab": {
          "base_uri": "https://localhost:8080/"
        },
        "id": "2Q20Dgv49nPI",
        "outputId": "63395ce1-bfdb-4add-dd4b-8cbb0416260c"
      },
      "source": [
        "klasifikasi('linear')"
      ],
      "execution_count": 45,
      "outputs": [
        {
          "output_type": "stream",
          "text": [
            "result = \n",
            "akurasi  = 84.61538461538461 %\n",
            "presisi  = 86.95482866043614 %\n",
            "recall   = 80.08241758241759 %\n",
            "f1 score = 81.94444444444444 %\n"
          ],
          "name": "stdout"
        }
      ]
    },
    {
      "cell_type": "code",
      "metadata": {
        "id": "Y31rX2T_96XC"
      },
      "source": [
        "classifier = SVC(kernel=\"linear\", random_state=1)\n",
        "classifier.fit(Train_X_Tfidf, y_train)\n",
        "y_pred = classifier.predict(Test_X_Tfidf)"
      ],
      "execution_count": 53,
      "outputs": []
    },
    {
      "cell_type": "code",
      "metadata": {
        "id": "P2F0ABsX_qhT"
      },
      "source": [
        "df_pred = df_test.copy()\n",
        "df_pred['prediksi'] = y_pred\n",
        "df_pred['true_prediction'] = np.where(df_pred['prediksi'] == df_test['Label'], True, False)\n",
        "df_pred.to_excel(\"prediksi.xlsx\")"
      ],
      "execution_count": 54,
      "outputs": []
    },
    {
      "cell_type": "code",
      "metadata": {
        "colab": {
          "base_uri": "https://localhost:8080/",
          "height": 563
        },
        "id": "iE7F_MW5_yQD",
        "outputId": "d4392ff0-84b3-4232-a456-1ffd30300aab"
      },
      "source": [
        "pd.set_option('display.max_colwidth', -1)\n",
        "df_diff = df_pred.loc[df_pred['true_prediction'] == True]\n",
        "display(df_diff)"
      ],
      "execution_count": 57,
      "outputs": [
        {
          "output_type": "display_data",
          "data": {
            "text/html": [
              "<div>\n",
              "<style scoped>\n",
              "    .dataframe tbody tr th:only-of-type {\n",
              "        vertical-align: middle;\n",
              "    }\n",
              "\n",
              "    .dataframe tbody tr th {\n",
              "        vertical-align: top;\n",
              "    }\n",
              "\n",
              "    .dataframe thead th {\n",
              "        text-align: right;\n",
              "    }\n",
              "</style>\n",
              "<table border=\"1\" class=\"dataframe\">\n",
              "  <thead>\n",
              "    <tr style=\"text-align: right;\">\n",
              "      <th></th>\n",
              "      <th>Label</th>\n",
              "      <th>Tweet</th>\n",
              "      <th>no_sw</th>\n",
              "      <th>prediksi</th>\n",
              "      <th>true_prediction</th>\n",
              "    </tr>\n",
              "  </thead>\n",
              "  <tbody>\n",
              "    <tr>\n",
              "      <th>407</th>\n",
              "      <td>Non_HS</td>\n",
              "      <td>Pak saya setuju kalo pak jadi gubenur karena kerja pak sangat bagus kerena kerja pak basuki tegas keluarga kami mendukung pak basuki</td>\n",
              "      <td>[tuju, kalo, gubenur, kerja, bagus, rena, kerja, basuki, keluarga, dukung, basuki]</td>\n",
              "      <td>Non_HS</td>\n",
              "      <td>True</td>\n",
              "    </tr>\n",
              "    <tr>\n",
              "      <th>93</th>\n",
              "      <td>Non_HS</td>\n",
              "      <td>Gimana ya Tim Ahok kok makin disudutkan(?) Mungkin karena ini final kali y</td>\n",
              "      <td>[gimana, ya, tim, ahok, sudut, final, kali, y]</td>\n",
              "      <td>Non_HS</td>\n",
              "      <td>True</td>\n",
              "    </tr>\n",
              "    <tr>\n",
              "      <th>315</th>\n",
              "      <td>Non_HS</td>\n",
              "      <td>Terimakasih Pak @basukibtp untuk 5 tahunnya, 3 tahun sbg wakil gubernur &amp; 2 tahun sbg gubernur!</td>\n",
              "      <td>[terimakasih, 5, 3, sbg, wakil, gubernur, 2, sbg, gubernur]</td>\n",
              "      <td>Non_HS</td>\n",
              "      <td>True</td>\n",
              "    </tr>\n",
              "    <tr>\n",
              "      <th>605</th>\n",
              "      <td>HS</td>\n",
              "      <td>@AHMADDHANIPRAST aku katakan anjing kpd ahmad dani, boleh....aku katakan babi kpd ahmad dhani, boleh...</td>\n",
              "      <td>[anjing, kpd, ahmad, babi, kpd, ahmad, dhani]</td>\n",
              "      <td>HS</td>\n",
              "      <td>True</td>\n",
              "    </tr>\n",
              "    <tr>\n",
              "      <th>331</th>\n",
              "      <td>Non_HS</td>\n",
              "      <td>Semangat terus. Maju terus di dalam TUHAN. God Bless you more and forever bpk ahok dan family</td>\n",
              "      <td>[semangat, maju, tuhan, god, bless, you, more, and, forever, bpk, ahok, family]</td>\n",
              "      <td>Non_HS</td>\n",
              "      <td>True</td>\n",
              "    </tr>\n",
              "    <tr>\n",
              "      <th>...</th>\n",
              "      <td>...</td>\n",
              "      <td>...</td>\n",
              "      <td>...</td>\n",
              "      <td>...</td>\n",
              "      <td>...</td>\n",
              "    </tr>\n",
              "    <tr>\n",
              "      <th>322</th>\n",
              "      <td>Non_HS</td>\n",
              "      <td>Terima kasih pak ahok pak djarot kami bangga perna di pimpin sama bapak berdua...tetap semangat...sukses terus pak</td>\n",
              "      <td>[terima, kasih, ahok, djarot, bangga, perna, pimpin, semangat, sukses]</td>\n",
              "      <td>Non_HS</td>\n",
              "      <td>True</td>\n",
              "    </tr>\n",
              "    <tr>\n",
              "      <th>401</th>\n",
              "      <td>Non_HS</td>\n",
              "      <td>Bapak ahok sosok yang saya banggakan, terimakasih pak sudah merubah jakarta.</td>\n",
              "      <td>[ahok, sosok, bangga, terimakasih, rubah, jakarta]</td>\n",
              "      <td>Non_HS</td>\n",
              "      <td>True</td>\n",
              "    </tr>\n",
              "    <tr>\n",
              "      <th>255</th>\n",
              "      <td>Non_HS</td>\n",
              "      <td>19 April adalah saat yang penting bagi warga Jakarta untuk menentukan masa depan Ibukota</td>\n",
              "      <td>[19, april, warga, jakarta, ibukota]</td>\n",
              "      <td>Non_HS</td>\n",
              "      <td>True</td>\n",
              "    </tr>\n",
              "    <tr>\n",
              "      <th>562</th>\n",
              "      <td>HS</td>\n",
              "      <td>@budimandjatmiko ahok si kutil babi kembali ke rumah lembang kenapa jakarta jadi banjir bud?</td>\n",
              "      <td>[ahok, si, kutil, babi, rumah, lembang, jakarta, banjir, bud]</td>\n",
              "      <td>HS</td>\n",
              "      <td>True</td>\n",
              "    </tr>\n",
              "    <tr>\n",
              "      <th>41</th>\n",
              "      <td>Non_HS</td>\n",
              "      <td>#DebatFinalPilkadaJKT Denger banyak program dan janji dan sering tau pas jadi ga dijalankan rasanya males aja sih.</td>\n",
              "      <td>[debatfinalpilkadajkt, denger, program, janji, tau, pas, ga, jalan, males, aja, sih]</td>\n",
              "      <td>Non_HS</td>\n",
              "      <td>True</td>\n",
              "    </tr>\n",
              "  </tbody>\n",
              "</table>\n",
              "<p>121 rows × 5 columns</p>\n",
              "</div>"
            ],
            "text/plain": [
              "      Label  ... true_prediction\n",
              "407  Non_HS  ...  True          \n",
              "93   Non_HS  ...  True          \n",
              "315  Non_HS  ...  True          \n",
              "605  HS      ...  True          \n",
              "331  Non_HS  ...  True          \n",
              "..      ...  ...   ...          \n",
              "322  Non_HS  ...  True          \n",
              "401  Non_HS  ...  True          \n",
              "255  Non_HS  ...  True          \n",
              "562  HS      ...  True          \n",
              "41   Non_HS  ...  True          \n",
              "\n",
              "[121 rows x 5 columns]"
            ]
          },
          "metadata": {
            "tags": []
          }
        }
      ]
    }
  ]
}